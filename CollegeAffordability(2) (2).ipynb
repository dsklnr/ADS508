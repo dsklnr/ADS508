{
 "cells": [
  {
   "cell_type": "markdown",
   "id": "7769cb37-a023-47a7-ae63-775b676e439e",
   "metadata": {
    "tags": []
   },
   "source": [
    "# 1. Prepare Datasets"
   ]
  },
  {
   "cell_type": "markdown",
   "id": "46a77cc7-2a66-4e55-8c79-c66c6550f83f",
   "metadata": {},
   "source": [
    "## Import the S3 data into SageMaker"
   ]
  },
  {
   "cell_type": "code",
   "execution_count": 38,
   "id": "ff39be09-f392-42cf-ae94-e4b976b16398",
   "metadata": {},
   "outputs": [],
   "source": [
    "import matplotlib.pyplot as plt\n",
    "import seaborn as sns"
   ]
  },
  {
   "cell_type": "code",
   "execution_count": 39,
   "id": "e68ab516-5832-4844-956b-3bced4c1d27b",
   "metadata": {
    "tags": []
   },
   "outputs": [
    {
     "name": "stdout",
     "output_type": "stream",
     "text": [
      "sagemaker.config INFO - Not applying SDK defaults from location: /etc/xdg/sagemaker/config.yaml\n",
      "sagemaker.config INFO - Not applying SDK defaults from location: /root/.config/sagemaker/config.yaml\n",
      "sagemaker.config INFO - Not applying SDK defaults from location: /etc/xdg/sagemaker/config.yaml\n",
      "sagemaker.config INFO - Not applying SDK defaults from location: /root/.config/sagemaker/config.yaml\n"
     ]
    }
   ],
   "source": [
    "import boto3\n",
    "import sagemaker\n",
    "import pandas as pd\n",
    "\n",
    "sess = sagemaker.Session()\n",
    "bucket = sess.default_bucket()\n",
    "role = sagemaker.get_execution_role()\n",
    "region = boto3.Session().region_name\n",
    "account_id = boto3.client(\"sts\").get_caller_identity().get(\"Account\")\n",
    "\n",
    "sm = boto3.Session().client(service_name=\"sagemaker\", region_name=region)"
   ]
  },
  {
   "cell_type": "markdown",
   "id": "fba21876-6bbf-484a-8fc2-0d5610329e5e",
   "metadata": {},
   "source": [
    "## Store S3 locations"
   ]
  },
  {
   "cell_type": "code",
   "execution_count": 40,
   "id": "486a66ce-f9c9-4e8c-ae5b-b60370df6ba7",
   "metadata": {
    "tags": []
   },
   "outputs": [],
   "source": [
    "s3_public_path_kaggle = \"s3://collegeaffordability317/Kaggle/\"\n",
    "s3_public_path_tuition = \"s3://collegeaffordability317/TuitionTracker/\"\n",
    "s3_public_path_usda = \"s3://collegeaffordability317/USDA/\"\n",
    "s3_public_path_usde = \"s3://collegeaffordability317/USDE/\""
   ]
  },
  {
   "cell_type": "code",
   "execution_count": 41,
   "id": "88bad887-1b3e-4bdc-9be4-da573b7e543f",
   "metadata": {
    "tags": []
   },
   "outputs": [
    {
     "name": "stdout",
     "output_type": "stream",
     "text": [
      "Stored 's3_public_path_kaggle' (str)\n",
      "Stored 's3_public_path_tuition' (str)\n",
      "Stored 's3_public_path_usda' (str)\n",
      "Stored 's3_public_path_usde' (str)\n"
     ]
    }
   ],
   "source": [
    "%store s3_public_path_kaggle\n",
    "%store s3_public_path_tuition\n",
    "%store s3_public_path_usda\n",
    "%store s3_public_path_usde"
   ]
  },
  {
   "cell_type": "markdown",
   "id": "6f18c5c3-9d9b-4f02-a080-348ef21ce8c6",
   "metadata": {},
   "source": [
    "## Show all the data files for the project"
   ]
  },
  {
   "cell_type": "code",
   "execution_count": 42,
   "id": "9b577fa8-19cb-48db-8e96-1285679afe0c",
   "metadata": {
    "tags": []
   },
   "outputs": [
    {
     "name": "stdout",
     "output_type": "stream",
     "text": [
      "2024-03-17 16:07:03   15143141 college_data.csv\n"
     ]
    }
   ],
   "source": [
    "!aws s3 ls $s3_public_path_kaggle"
   ]
  },
  {
   "cell_type": "code",
   "execution_count": 43,
   "id": "5d2a342e-f01a-4822-9c98-08047819fd78",
   "metadata": {
    "tags": []
   },
   "outputs": [
    {
     "name": "stdout",
     "output_type": "stream",
     "text": [
      "2024-03-17 16:07:00      21527 DataDictionary.xlsx\n",
      "2024-03-17 16:07:00     838246 GradRates.csv\n",
      "2024-03-17 16:07:01    1319314 NetPrice.csv\n",
      "2024-03-17 16:07:01    1382164 RetentionRates.csv\n",
      "2024-03-17 16:07:02     653000 StickerPrice.csv\n"
     ]
    }
   ],
   "source": [
    "!aws s3 ls $s3_public_path_tuition"
   ]
  },
  {
   "cell_type": "code",
   "execution_count": 44,
   "id": "d99f7a83-ad65-46bc-be37-318954b5573a",
   "metadata": {
    "tags": []
   },
   "outputs": [
    {
     "name": "stdout",
     "output_type": "stream",
     "text": [
      "2024-03-17 16:06:57    1610608 Education.xlsx\n",
      "2024-03-21 01:19:41     450599 PovertyEstimates.csv\n",
      "2024-03-21 01:19:41    2187886 Unemployment.csv\n"
     ]
    }
   ],
   "source": [
    "!aws s3 ls $s3_public_path_usda"
   ]
  },
  {
   "cell_type": "code",
   "execution_count": 45,
   "id": "6e917c6f-ee0f-4e56-870b-1d77baf98a8c",
   "metadata": {
    "tags": []
   },
   "outputs": [
    {
     "name": "stdout",
     "output_type": "stream",
     "text": [
      "2024-03-17 16:06:52      59904 FedStudentAidPortfolioByAge.xls\n",
      "2024-03-17 16:06:53      68096 FedStudentAidPortfolioByDebtSize.xls\n",
      "2024-03-17 16:06:53      62976 FedStudentAidPortfolioByLoanType.xls\n",
      "2024-03-17 16:06:53      50176 FedStudentAidPortfolioByLocation.xls\n",
      "2024-03-17 16:06:54      60928 FedStudentAidPortfolioBySchoolType.xls\n",
      "2024-03-17 16:06:54      61952 FedStudentAidPortfolioSummary.xls\n",
      "2024-03-17 16:06:55      52224 PortfolioByAgeAndDebtSize.xls\n",
      "2024-03-17 16:06:55      91648 PortfolioByDelinquencyStatus.xls\n",
      "2024-03-17 16:06:56      57856 PortfolioByLocationAndAge.xls\n",
      "2024-03-17 16:06:56      58368 PortfolioByLocationAndDebtSize.xls\n",
      "2024-03-17 16:06:56     147456 PortfolioByRepaymentPlan.xls\n"
     ]
    }
   ],
   "source": [
    "!aws s3 ls $s3_public_path_usde"
   ]
  },
  {
   "cell_type": "markdown",
   "id": "7d49219c-49d3-4534-9e80-443cf2dc178c",
   "metadata": {},
   "source": [
    "# 2. Athena DB"
   ]
  },
  {
   "cell_type": "markdown",
   "id": "b9d95c73-236d-4585-bf5a-bd0bb9157ea1",
   "metadata": {},
   "source": [
    "#### Data Wrangling"
   ]
  },
  {
   "cell_type": "code",
   "execution_count": 46,
   "id": "54215eeb-8505-4ce5-85cc-0bf64f15a226",
   "metadata": {
    "tags": []
   },
   "outputs": [],
   "source": [
    "from pyathena import connect\n",
    "\n",
    "# Set S3 staging directory -- this is a temporary directory used for Athena queries\n",
    "s3_staging_dir = \"s3://{0}/athena/staging\".format(bucket)"
   ]
  },
  {
   "cell_type": "code",
   "execution_count": 47,
   "id": "81da011c-ea83-4deb-93c4-882a1e3e1ddb",
   "metadata": {
    "tags": []
   },
   "outputs": [],
   "source": [
    "# Set Athena parameters\n",
    "database_name = 'collegeaffordability317'\n",
    "table_name = 'college_data'"
   ]
  },
  {
   "cell_type": "code",
   "execution_count": 48,
   "id": "b47df160-01c8-471e-9d83-74484844c259",
   "metadata": {
    "tags": []
   },
   "outputs": [],
   "source": [
    "conn = connect(region_name=region, s3_staging_dir=s3_staging_dir)"
   ]
  },
  {
   "cell_type": "code",
   "execution_count": 49,
   "id": "7a70b5b3-2ff6-4f39-b1a7-98d62e80dae3",
   "metadata": {
    "tags": []
   },
   "outputs": [
    {
     "name": "stdout",
     "output_type": "stream",
     "text": [
      "CREATE DATABASE IF NOT EXISTS collegeaffordability317\n"
     ]
    },
    {
     "data": {
      "text/html": [
       "<div>\n",
       "<style scoped>\n",
       "    .dataframe tbody tr th:only-of-type {\n",
       "        vertical-align: middle;\n",
       "    }\n",
       "\n",
       "    .dataframe tbody tr th {\n",
       "        vertical-align: top;\n",
       "    }\n",
       "\n",
       "    .dataframe thead th {\n",
       "        text-align: right;\n",
       "    }\n",
       "</style>\n",
       "<table border=\"1\" class=\"dataframe\">\n",
       "  <thead>\n",
       "    <tr style=\"text-align: right;\">\n",
       "      <th></th>\n",
       "    </tr>\n",
       "  </thead>\n",
       "  <tbody>\n",
       "  </tbody>\n",
       "</table>\n",
       "</div>"
      ],
      "text/plain": [
       "Empty DataFrame\n",
       "Columns: []\n",
       "Index: []"
      ]
     },
     "execution_count": 49,
     "metadata": {},
     "output_type": "execute_result"
    }
   ],
   "source": [
    "statement = \"CREATE DATABASE IF NOT EXISTS {}\".format(database_name)\n",
    "print(statement)\n",
    "pd.read_sql(statement, conn)"
   ]
  },
  {
   "cell_type": "code",
   "execution_count": 50,
   "id": "9d66cb59-2f4a-4979-a4dc-c11e7d54dd75",
   "metadata": {
    "tags": []
   },
   "outputs": [
    {
     "data": {
      "text/html": [
       "<div>\n",
       "<style scoped>\n",
       "    .dataframe tbody tr th:only-of-type {\n",
       "        vertical-align: middle;\n",
       "    }\n",
       "\n",
       "    .dataframe tbody tr th {\n",
       "        vertical-align: top;\n",
       "    }\n",
       "\n",
       "    .dataframe thead th {\n",
       "        text-align: right;\n",
       "    }\n",
       "</style>\n",
       "<table border=\"1\" class=\"dataframe\">\n",
       "  <thead>\n",
       "    <tr style=\"text-align: right;\">\n",
       "      <th></th>\n",
       "      <th>database_name</th>\n",
       "    </tr>\n",
       "  </thead>\n",
       "  <tbody>\n",
       "    <tr>\n",
       "      <th>0</th>\n",
       "      <td>collegeaffordability317</td>\n",
       "    </tr>\n",
       "    <tr>\n",
       "      <th>1</th>\n",
       "      <td>default</td>\n",
       "    </tr>\n",
       "    <tr>\n",
       "      <th>2</th>\n",
       "      <td>dsoaws</td>\n",
       "    </tr>\n",
       "  </tbody>\n",
       "</table>\n",
       "</div>"
      ],
      "text/plain": [
       "             database_name\n",
       "0  collegeaffordability317\n",
       "1                  default\n",
       "2                   dsoaws"
      ]
     },
     "execution_count": 50,
     "metadata": {},
     "output_type": "execute_result"
    }
   ],
   "source": [
    "statement = \"SHOW DATABASES\"\n",
    "\n",
    "df_show = pd.read_sql(statement, conn)\n",
    "df_show.head(10)"
   ]
  },
  {
   "cell_type": "markdown",
   "id": "1b8f56b6-308e-4c58-94e4-49c00d9dd7c0",
   "metadata": {},
   "source": [
    "#### Populate Tables Being Used"
   ]
  },
  {
   "cell_type": "code",
   "execution_count": 51,
   "id": "be60194b-307a-459e-9088-990ce4fb3913",
   "metadata": {},
   "outputs": [],
   "source": [
    "tuitiontracker_dir = 's3://collegeaffordability317/TuitionTracker/'"
   ]
  },
  {
   "cell_type": "code",
   "execution_count": 52,
   "id": "c74e03cf-7248-464e-b850-34bd2d756a4d",
   "metadata": {
    "tags": []
   },
   "outputs": [
    {
     "data": {
      "text/html": [
       "<div>\n",
       "<style scoped>\n",
       "    .dataframe tbody tr th:only-of-type {\n",
       "        vertical-align: middle;\n",
       "    }\n",
       "\n",
       "    .dataframe tbody tr th {\n",
       "        vertical-align: top;\n",
       "    }\n",
       "\n",
       "    .dataframe thead th {\n",
       "        text-align: right;\n",
       "    }\n",
       "</style>\n",
       "<table border=\"1\" class=\"dataframe\">\n",
       "  <thead>\n",
       "    <tr style=\"text-align: right;\">\n",
       "      <th></th>\n",
       "      <th>unit_id</th>\n",
       "      <th>institution_name</th>\n",
       "      <th>sector</th>\n",
       "      <th>total_price_in_state_on_campus_2021_2022</th>\n",
       "      <th>total_price_in_state_off_campus_wo_fam_2021_2022</th>\n",
       "      <th>total_price_in_state_off_campus_w_fam_2021_2022</th>\n",
       "      <th>total_price_in_state_on_campus_2020_2021</th>\n",
       "      <th>total_price_in_state_off_campus_wo_fam_2020_2021</th>\n",
       "      <th>total_price_in_state_off_campus_w_fam_2020_2021</th>\n",
       "      <th>total_price_in_state_on_campus_2019_2020</th>\n",
       "      <th>...</th>\n",
       "      <th>total_price_in_state_off_campus_w_fam_2014_2015</th>\n",
       "      <th>total_price_in_state_on_campus_2013_2014</th>\n",
       "      <th>total_price_in_state_off_campus_wo_fam_2013_2014</th>\n",
       "      <th>total_price_in_state_off_campus_w_fam_2013_2014</th>\n",
       "      <th>total_price_in_state_on_campus_2012_2013</th>\n",
       "      <th>total_price_in_state_off_campus_wo_fam_2012_2013</th>\n",
       "      <th>total_price_in_state_off_campus_w_fam_2012_2013</th>\n",
       "      <th>total_price_in_state_on_campus_2011_2012</th>\n",
       "      <th>total_price_in_state_off_campus_wo_fam_2011_2012</th>\n",
       "      <th>total_price_in_state_off_campus_w_fam_2011_2012</th>\n",
       "    </tr>\n",
       "  </thead>\n",
       "  <tbody>\n",
       "  </tbody>\n",
       "</table>\n",
       "<p>0 rows × 36 columns</p>\n",
       "</div>"
      ],
      "text/plain": [
       "Empty DataFrame\n",
       "Columns: [unit_id, institution_name, sector, total_price_in_state_on_campus_2021_2022, total_price_in_state_off_campus_wo_fam_2021_2022, total_price_in_state_off_campus_w_fam_2021_2022, total_price_in_state_on_campus_2020_2021, total_price_in_state_off_campus_wo_fam_2020_2021, total_price_in_state_off_campus_w_fam_2020_2021, total_price_in_state_on_campus_2019_2020, total_price_in_state_off_campus_wo_fam_2019_2020, total_price_in_state_off_campus_w_fam_2019_2020, total_price_in_state_on_campus_2018_2019, total_price_in_state_off_campus_wo_fam_2018_2019, total_price_in_state_off_campus_w_fam_2018_2019, total_price_in_state_on_campus_2017_2018, total_price_in_state_off_campus_wo_fam_2017_2018, total_price_in_state_off_campus_w_fam_2017_2018, total_price_in_state_on_campus_2016_2017, total_price_in_state_off_campus_wo_fam_2016_2017, total_price_in_state_off_campus_w_fam_2016_2017, total_price_in_state_on_campus_2015_2016, total_price_in_state_off_campus_wo_fam_2015_2016, total_price_in_state_off_campus_w_fam_2015_2016, total_price_in_state_on_campus_2014_2015, total_price_in_state_off_campus_wo_fam_2014_2015, total_price_in_state_off_campus_w_fam_2014_2015, total_price_in_state_on_campus_2013_2014, total_price_in_state_off_campus_wo_fam_2013_2014, total_price_in_state_off_campus_w_fam_2013_2014, total_price_in_state_on_campus_2012_2013, total_price_in_state_off_campus_wo_fam_2012_2013, total_price_in_state_off_campus_w_fam_2012_2013, total_price_in_state_on_campus_2011_2012, total_price_in_state_off_campus_wo_fam_2011_2012, total_price_in_state_off_campus_w_fam_2011_2012]\n",
       "Index: []\n",
       "\n",
       "[0 rows x 36 columns]"
      ]
     },
     "execution_count": 52,
     "metadata": {},
     "output_type": "execute_result"
    }
   ],
   "source": [
    "# Drop the table if it already exists\n",
    "table_name_1 = 'StickerPrice'\n",
    "pd.read_sql(f'DROP TABLE IF EXISTS {database_name}.{table_name_1}', conn)\n",
    "\n",
    "# Define the CREATE TABLE statement with data types in lowercase\n",
    "create_table = f\"\"\"\n",
    "CREATE EXTERNAL TABLE IF NOT EXISTS {database_name}.{table_name_1} (\n",
    "    unit_id int,\n",
    "    institution_name string,\n",
    "    sector int,\n",
    "    total_price_in_state_on_campus_2021_2022 float,\n",
    "    total_price_in_state_off_campus_wo_fam_2021_2022 float,\n",
    "    total_price_in_state_off_campus_w_fam_2021_2022 float,\n",
    "    total_price_in_state_on_campus_2020_2021 float,\n",
    "    total_price_in_state_off_campus_wo_fam_2020_2021 float,\n",
    "    total_price_in_state_off_campus_w_fam_2020_2021 float,\n",
    "    total_price_in_state_on_campus_2019_2020 float,\n",
    "    total_price_in_state_off_campus_wo_fam_2019_2020 float,\n",
    "    total_price_in_state_off_campus_w_fam_2019_2020 float,\n",
    "    total_price_in_state_on_campus_2018_2019 float,\n",
    "    total_price_in_state_off_campus_wo_fam_2018_2019 float,\n",
    "    total_price_in_state_off_campus_w_fam_2018_2019 float,\n",
    "    total_price_in_state_on_campus_2017_2018 float,\n",
    "    total_price_in_state_off_campus_wo_fam_2017_2018 float,\n",
    "    total_price_in_state_off_campus_w_fam_2017_2018 float,\n",
    "    total_price_in_state_on_campus_2016_2017 float,\n",
    "    total_price_in_state_off_campus_wo_fam_2016_2017 float,\n",
    "    total_price_in_state_off_campus_w_fam_2016_2017 float,\n",
    "    total_price_in_state_on_campus_2015_2016 float,\n",
    "    total_price_in_state_off_campus_wo_fam_2015_2016 float,\n",
    "    total_price_in_state_off_campus_w_fam_2015_2016 float,\n",
    "    total_price_in_state_on_campus_2014_2015 float,\n",
    "    total_price_in_state_off_campus_wo_fam_2014_2015 float,\n",
    "    total_price_in_state_off_campus_w_fam_2014_2015 float,\n",
    "    total_price_in_state_on_campus_2013_2014 float,\n",
    "    total_price_in_state_off_campus_wo_fam_2013_2014 float,\n",
    "    total_price_in_state_off_campus_w_fam_2013_2014 float,\n",
    "    total_price_in_state_on_campus_2012_2013 float,\n",
    "    total_price_in_state_off_campus_wo_fam_2012_2013 float,\n",
    "    total_price_in_state_off_campus_w_fam_2012_2013 float,\n",
    "    total_price_in_state_on_campus_2011_2012 float,\n",
    "    total_price_in_state_off_campus_wo_fam_2011_2012 float,\n",
    "    total_price_in_state_off_campus_w_fam_2011_2012 float\n",
    "    )\n",
    "    ROW FORMAT DELIMITED\n",
    "    FIELDS TERMINATED BY ','\n",
    "    LOCATION '{tuitiontracker_dir}/{table_name_1}'\n",
    "\"\"\"\n",
    "\n",
    "# Execute create table statement\n",
    "pd.read_sql(create_table, conn)\n",
    "\n",
    "pd.read_sql(f'SELECT * FROM {database_name}.{table_name_1} LIMIT 10', conn)"
   ]
  },
  {
   "cell_type": "code",
   "execution_count": 53,
   "id": "e97a80ac-257b-4ed7-a114-1801ed3d2212",
   "metadata": {
    "tags": []
   },
   "outputs": [
    {
     "data": {
      "text/html": [
       "<div>\n",
       "<style scoped>\n",
       "    .dataframe tbody tr th:only-of-type {\n",
       "        vertical-align: middle;\n",
       "    }\n",
       "\n",
       "    .dataframe tbody tr th {\n",
       "        vertical-align: top;\n",
       "    }\n",
       "\n",
       "    .dataframe thead th {\n",
       "        text-align: right;\n",
       "    }\n",
       "</style>\n",
       "<table border=\"1\" class=\"dataframe\">\n",
       "  <thead>\n",
       "    <tr style=\"text-align: right;\">\n",
       "      <th></th>\n",
       "      <th>unit_id</th>\n",
       "      <th>institution_name</th>\n",
       "      <th>sector</th>\n",
       "      <th>avg_net_price_grants_scholarship_2020_2021</th>\n",
       "      <th>avg_net_price_income_0_30k_titleiv_fed_finaid_2020_2021</th>\n",
       "      <th>avg_net_price_income_30k_48k_titleiv_fed_finaid_2020_2021</th>\n",
       "      <th>avg_net_price_income_48k_75k_titleiv_fed_finaid_2020_2021</th>\n",
       "      <th>avg_net_price_income_75k_110k_titleiv_fed_finaid_2020_2021</th>\n",
       "      <th>avg_net_price_income_over_110k_titleiv_fed_finaid_2020_2021</th>\n",
       "      <th>avg_net_price_grants_scholarship_2019_2020</th>\n",
       "      <th>...</th>\n",
       "      <th>avg_net_price_income_30k_48k_titleiv_fed_finaid_2012_2013</th>\n",
       "      <th>avg_net_price_income_48k_75k_titleiv_fed_finaid_2012_2013</th>\n",
       "      <th>avg_net_price_income_75k_110k_titleiv_fed_finaid_2012_2013</th>\n",
       "      <th>avg_net_price_income_over_110k_titleiv_fed_finaid_2012_2013</th>\n",
       "      <th>avg_net_price_grants_scholarship_2011_2012</th>\n",
       "      <th>avg_net_price_income_0_30k_titleiv_fed_finaid_2011_2012</th>\n",
       "      <th>avg_net_price_income_30k_48k_titleiv_fed_finaid_2011_2012</th>\n",
       "      <th>avg_net_price_income_48k_75k_titleiv_fed_finaid_2011_2012</th>\n",
       "      <th>avg_net_price_income_75k_110k_titleiv_fed_finaid_2011_2012</th>\n",
       "      <th>avg_net_price_income_over_110k_titleiv_fed_finaid_2011_2012</th>\n",
       "    </tr>\n",
       "  </thead>\n",
       "  <tbody>\n",
       "  </tbody>\n",
       "</table>\n",
       "<p>0 rows × 63 columns</p>\n",
       "</div>"
      ],
      "text/plain": [
       "Empty DataFrame\n",
       "Columns: [unit_id, institution_name, sector, avg_net_price_grants_scholarship_2020_2021, avg_net_price_income_0_30k_titleiv_fed_finaid_2020_2021, avg_net_price_income_30k_48k_titleiv_fed_finaid_2020_2021, avg_net_price_income_48k_75k_titleiv_fed_finaid_2020_2021, avg_net_price_income_75k_110k_titleiv_fed_finaid_2020_2021, avg_net_price_income_over_110k_titleiv_fed_finaid_2020_2021, avg_net_price_grants_scholarship_2019_2020, avg_net_price_income_0_30k_titleiv_fed_finaid_2019_2020, avg_net_price_income_30k_48k_titleiv_fed_finaid_2019_2020, avg_net_price_income_48k_75k_titleiv_fed_finaid_2019_2020, avg_net_price_income_75k_110k_titleiv_fed_finaid_2019_2020, avg_net_price_income_over_110k_titleiv_fed_finaid_2019_2020, avg_net_price_grants_scholarship_2018_2019, avg_net_price_income_0_30k_titleiv_fed_finaid_2018_2019, avg_net_price_income_30k_48k_titleiv_fed_finaid_2018_2019, avg_net_price_income_48k_75k_titleiv_fed_finaid_2018_2019, avg_net_price_income_75k_110k_titleiv_fed_finaid_2018_2019, avg_net_price_income_over_110k_titleiv_fed_finaid_2018_2019, avg_net_price_grants_scholarship_2017_2018, avg_net_price_income_0_30k_titleiv_fed_finaid_2017_2018, avg_net_price_income_30k_48k_titleiv_fed_finaid_2017_2018, avg_net_price_income_48k_75k_titleiv_fed_finaid_2017_2018, avg_net_price_income_75k_110k_titleiv_fed_finaid_2017_2018, avg_net_price_income_over_110k_titleiv_fed_finaid_2017_2018, avg_net_price_grants_scholarship_2016_2017, avg_net_price_income_0_30k_titleiv_fed_finaid_2016_2017, avg_net_price_income_30k_48k_titleiv_fed_finaid_2016_2017, avg_net_price_income_48k_75k_titleiv_fed_finaid_2016_2017, avg_net_price_income_75k_110k_titleiv_fed_finaid_2016_2017, avg_net_price_income_over_110k_titleiv_fed_finaid_2016_2017, avg_net_price_grants_scholarship_2015_2016, avg_net_price_income_0_30k_titleiv_fed_finaid_2015_2016, avg_net_price_income_30k_48k_titleiv_fed_finaid_2015_2016, avg_net_price_income_48k_75k_titleiv_fed_finaid_2015_2016, avg_net_price_income_75k_110k_titleiv_fed_finaid_2015_2016, avg_net_price_income_over_110k_titleiv_fed_finaid_2015_2016, avg_net_price_grants_scholarship_2014_2015, avg_net_price_income_0_30k_titleiv_fed_finaid_2014_2015, avg_net_price_income_30k_48k_titleiv_fed_finaid_2014_2015, avg_net_price_income_48k_75k_titleiv_fed_finaid_2014_2015, avg_net_price_income_75k_110k_titleiv_fed_finaid_2014_2015, avg_net_price_income_over_110k_titleiv_fed_finaid_2014_2015, avg_net_price_grants_scholarship_2013_2014, avg_net_price_income_0_30k_titleiv_fed_finaid_2013_2014, avg_net_price_income_30k_48k_titleiv_fed_finaid_2013_2014, avg_net_price_income_48k_75k_titleiv_fed_finaid_2013_2014, avg_net_price_income_75k_110k_titleiv_fed_finaid_2013_2014, avg_net_price_income_over_110k_titleiv_fed_finaid_2013_2014, avg_net_price_grants_scholarship_2012_2013, avg_net_price_income_0_30k_titleiv_fed_finaid_2012_2013, avg_net_price_income_30k_48k_titleiv_fed_finaid_2012_2013, avg_net_price_income_48k_75k_titleiv_fed_finaid_2012_2013, avg_net_price_income_75k_110k_titleiv_fed_finaid_2012_2013, avg_net_price_income_over_110k_titleiv_fed_finaid_2012_2013, avg_net_price_grants_scholarship_2011_2012, avg_net_price_income_0_30k_titleiv_fed_finaid_2011_2012, avg_net_price_income_30k_48k_titleiv_fed_finaid_2011_2012, avg_net_price_income_48k_75k_titleiv_fed_finaid_2011_2012, avg_net_price_income_75k_110k_titleiv_fed_finaid_2011_2012, avg_net_price_income_over_110k_titleiv_fed_finaid_2011_2012]\n",
       "Index: []\n",
       "\n",
       "[0 rows x 63 columns]"
      ]
     },
     "execution_count": 53,
     "metadata": {},
     "output_type": "execute_result"
    }
   ],
   "source": [
    "# Drop the table if it already exists\n",
    "table_name_2 = 'NetPrice'\n",
    "pd.read_sql(f'DROP TABLE IF EXISTS {database_name}.{table_name_2}', conn)\n",
    "\n",
    "# Define the CREATE TABLE statement with data types in lowercase\n",
    "create_table = f\"\"\"\n",
    "CREATE EXTERNAL TABLE IF NOT EXISTS {database_name}.{table_name_2} (\n",
    "    unit_id int,\n",
    "    institution_name string,\n",
    "    sector int,\n",
    "    avg_net_price_grants_scholarship_2020_2021 float,\n",
    "    avg_net_price_income_0_30k_titleiv_fed_finaid_2020_2021 float,\n",
    "    avg_net_price_income_30k_48k_titleiv_fed_finaid_2020_2021 float,\n",
    "    avg_net_price_income_48k_75k_titleiv_fed_finaid_2020_2021 float,\n",
    "    avg_net_price_income_75k_110k_titleiv_fed_finaid_2020_2021 float,\n",
    "    avg_net_price_income_over_110k_titleiv_fed_finaid_2020_2021 float,\n",
    "    avg_net_price_grants_scholarship_2019_2020 float,\n",
    "    avg_net_price_income_0_30k_titleiv_fed_finaid_2019_2020 float,\n",
    "    avg_net_price_income_30k_48k_titleiv_fed_finaid_2019_2020 float,\n",
    "    avg_net_price_income_48k_75k_titleiv_fed_finaid_2019_2020 float,\n",
    "    avg_net_price_income_75k_110k_titleiv_fed_finaid_2019_2020 float,\n",
    "    avg_net_price_income_over_110k_titleiv_fed_finaid_2019_2020 float,\n",
    "    avg_net_price_grants_scholarship_2018_2019 float,\n",
    "    avg_net_price_income_0_30k_titleiv_fed_finaid_2018_2019 float,\n",
    "    avg_net_price_income_30k_48k_titleiv_fed_finaid_2018_2019 float,\n",
    "    avg_net_price_income_48k_75k_titleiv_fed_finaid_2018_2019 float,\n",
    "    avg_net_price_income_75k_110k_titleiv_fed_finaid_2018_2019 float,\n",
    "    avg_net_price_income_over_110k_titleiv_fed_finaid_2018_2019 float,\n",
    "    avg_net_price_grants_scholarship_2017_2018 float,\n",
    "    avg_net_price_income_0_30k_titleiv_fed_finaid_2017_2018 float,\n",
    "    avg_net_price_income_30k_48k_titleiv_fed_finaid_2017_2018 float,\n",
    "    avg_net_price_income_48k_75k_titleiv_fed_finaid_2017_2018 float,\n",
    "    avg_net_price_income_75k_110k_titleiv_fed_finaid_2017_2018 float,\n",
    "    avg_net_price_income_over_110k_titleiv_fed_finaid_2017_2018 float,\n",
    "    avg_net_price_grants_scholarship_2016_2017 float,\n",
    "    avg_net_price_income_0_30k_titleiv_fed_finaid_2016_2017 float,\n",
    "    avg_net_price_income_30k_48k_titleiv_fed_finaid_2016_2017 float,\n",
    "    avg_net_price_income_48k_75k_titleiv_fed_finaid_2016_2017 float,\n",
    "    avg_net_price_income_75k_110k_titleiv_fed_finaid_2016_2017 float,\n",
    "    avg_net_price_income_over_110k_titleiv_fed_finaid_2016_2017 float,\n",
    "    avg_net_price_grants_scholarship_2015_2016 float,\n",
    "    avg_net_price_income_0_30k_titleiv_fed_finaid_2015_2016 float,\n",
    "    avg_net_price_income_30k_48k_titleiv_fed_finaid_2015_2016 float,\n",
    "    avg_net_price_income_48k_75k_titleiv_fed_finaid_2015_2016 float,\n",
    "    avg_net_price_income_75k_110k_titleiv_fed_finaid_2015_2016 float,\n",
    "    avg_net_price_income_over_110k_titleiv_fed_finaid_2015_2016 float,\n",
    "    avg_net_price_grants_scholarship_2014_2015 float,\n",
    "    avg_net_price_income_0_30k_titleiv_fed_finaid_2014_2015 float,\n",
    "    avg_net_price_income_30k_48k_titleiv_fed_finaid_2014_2015 float,\n",
    "    avg_net_price_income_48k_75k_titleiv_fed_finaid_2014_2015 float,\n",
    "    avg_net_price_income_75k_110k_titleiv_fed_finaid_2014_2015 float,\n",
    "    avg_net_price_income_over_110k_titleiv_fed_finaid_2014_2015 float,\n",
    "    avg_net_price_grants_scholarship_2013_2014 float,\n",
    "    avg_net_price_income_0_30k_titleiv_fed_finaid_2013_2014 float,\n",
    "    avg_net_price_income_30k_48k_titleiv_fed_finaid_2013_2014 float,\n",
    "    avg_net_price_income_48k_75k_titleiv_fed_finaid_2013_2014 float,\n",
    "    avg_net_price_income_75k_110k_titleiv_fed_finaid_2013_2014 float,\n",
    "    avg_net_price_income_over_110k_titleiv_fed_finaid_2013_2014 float,\n",
    "    avg_net_price_grants_scholarship_2012_2013 float,\n",
    "    avg_net_price_income_0_30k_titleiv_fed_finaid_2012_2013 float,\n",
    "    avg_net_price_income_30k_48k_titleiv_fed_finaid_2012_2013 float,\n",
    "    avg_net_price_income_48k_75k_titleiv_fed_finaid_2012_2013 float,\n",
    "    avg_net_price_income_75k_110k_titleiv_fed_finaid_2012_2013 float,\n",
    "    avg_net_price_income_over_110k_titleiv_fed_finaid_2012_2013 float,\n",
    "    avg_net_price_grants_scholarship_2011_2012 float,\n",
    "    avg_net_price_income_0_30k_titleiv_fed_finaid_2011_2012 float,\n",
    "    avg_net_price_income_30k_48k_titleiv_fed_finaid_2011_2012 float,\n",
    "    avg_net_price_income_48k_75k_titleiv_fed_finaid_2011_2012 float,\n",
    "    avg_net_price_income_75k_110k_titleiv_fed_finaid_2011_2012 float,\n",
    "    avg_net_price_income_over_110k_titleiv_fed_finaid_2011_2012 float\n",
    "    )\n",
    "    ROW FORMAT DELIMITED\n",
    "    FIELDS TERMINATED BY ','\n",
    "    LOCATION '{tuitiontracker_dir}/{table_name_2}'\n",
    "\"\"\"\n",
    "\n",
    "# Execute create table statement\n",
    "pd.read_sql(create_table, conn)\n",
    "\n",
    "pd.read_sql(f'SELECT * FROM {database_name}.{table_name_2} LIMIT 10', conn)"
   ]
  },
  {
   "cell_type": "code",
   "execution_count": 56,
   "id": "6ed603eb-262e-4ac3-9d13-4ba4eb146cb1",
   "metadata": {},
   "outputs": [],
   "source": [
    "poverty_dir = 's3://collegeaffordability317/PovertyEstimates/'"
   ]
  },
  {
   "cell_type": "code",
   "execution_count": 58,
   "id": "dc538c1c-71fc-48ee-a49e-0c51ed58b55c",
   "metadata": {},
   "outputs": [
    {
     "name": "stderr",
     "output_type": "stream",
     "text": [
      "Failed to execute query.\n",
      "Traceback (most recent call last):\n",
      "  File \"/opt/conda/lib/python3.8/site-packages/pyathena/common.py\", line 575, in _execute\n",
      "    query_id = retry_api_call(\n",
      "  File \"/opt/conda/lib/python3.8/site-packages/pyathena/util.py\", line 84, in retry_api_call\n",
      "    return retry(func, *args, **kwargs)\n",
      "  File \"/opt/conda/lib/python3.8/site-packages/tenacity/__init__.py\", line 379, in __call__\n",
      "    do = self.iter(retry_state=retry_state)\n",
      "  File \"/opt/conda/lib/python3.8/site-packages/tenacity/__init__.py\", line 314, in iter\n",
      "    return fut.result()\n",
      "  File \"/opt/conda/lib/python3.8/concurrent/futures/_base.py\", line 437, in result\n",
      "    return self.__get_result()\n",
      "  File \"/opt/conda/lib/python3.8/concurrent/futures/_base.py\", line 389, in __get_result\n",
      "    raise self._exception\n",
      "  File \"/opt/conda/lib/python3.8/site-packages/tenacity/__init__.py\", line 382, in __call__\n",
      "    result = fn(*args, **kwargs)\n",
      "  File \"/opt/conda/lib/python3.8/site-packages/botocore/client.py\", line 553, in _api_call\n",
      "    return self._make_api_call(operation_name, kwargs)\n",
      "  File \"/opt/conda/lib/python3.8/site-packages/botocore/client.py\", line 1009, in _make_api_call\n",
      "    raise error_class(parsed_response, operation_name)\n",
      "botocore.errorfactory.InvalidRequestException: An error occurred (InvalidRequestException) when calling the StartQueryExecution operation: line 1:8: mismatched input 'EXTERNAL'. Expecting: 'MATERIALIZED', 'MULTI', 'OR', 'PROTECTED', 'ROLE', 'SCHEMA', 'TABLE', 'VIEW'\n"
     ]
    },
    {
     "ename": "DatabaseError",
     "evalue": "Execution failed on sql: \nCREATE EXTERNAL TABLE IF NOT EXISTS collegeaffordability317.Poverty (\n    FIPS_Code string,\n    Stabr string,\n    Area_name string,\n    Rural-urban_Continuum_Code_2003 string,\n    Urban_Influence_Code_2003 string,\n    Rural-urban_Continuum_Code_2013 string,\n    Urban_Influence_Code_ 2013 string,\n    POVALL_2021\tCI90LBALL_2021 string,\n    CI90UBALL_2021 string,\n    PCTPOVALL_2021 string,\n    CI90LBALLP_2021 string,\n    CI90UBALLP_2021 string,\n    POV017_2021\tCI90LB017_2021 string,\n    CI90UB017_2021 string,\n    PCTPOV017_2021 string,\n    CI90LB017P_2021 string,\n    CI90UB017P_2021 string,\n    POV517_2021 string,\n    CI90LB517_2021 string,\n    CI90UB517_2021 string,\n    PCTPOV517_2021 string,\n    CI90LB517P_2021 string,\n    CI90UB517P_2021\tMEDHHINC_2021 string,\n    CI90LBINC_2021 string,\n    CI90UBINC_2021 string,\n    POV04_2021 string,\n    CI90LB04_2021 string,\n    CI90UB04_2021 string,\n    PCTPOV04_2021 string,\n    CI90LB04P_2021 string,\n    CI90UB04P_2021 string\n    )\n    ROW FORMAT DELIMITED\n    FIELDS TERMINATED BY ','\n    LOCATION 's3://collegeaffordability317/PovertyEstimates//Poverty'\n\nAn error occurred (InvalidRequestException) when calling the StartQueryExecution operation: line 1:8: mismatched input 'EXTERNAL'. Expecting: 'MATERIALIZED', 'MULTI', 'OR', 'PROTECTED', 'ROLE', 'SCHEMA', 'TABLE', 'VIEW'\nunable to rollback",
     "output_type": "error",
     "traceback": [
      "\u001b[0;31m---------------------------------------------------------------------------\u001b[0m",
      "\u001b[0;31mInvalidRequestException\u001b[0m                   Traceback (most recent call last)",
      "File \u001b[0;32m/opt/conda/lib/python3.8/site-packages/pyathena/common.py:575\u001b[0m, in \u001b[0;36mBaseCursor._execute\u001b[0;34m(self, operation, parameters, work_group, s3_staging_dir, cache_size, cache_expiration_time, result_reuse_enable, result_reuse_minutes)\u001b[0m\n\u001b[1;32m    574\u001b[0m \u001b[38;5;28;01mtry\u001b[39;00m:\n\u001b[0;32m--> 575\u001b[0m     query_id \u001b[38;5;241m=\u001b[39m \u001b[43mretry_api_call\u001b[49m\u001b[43m(\u001b[49m\n\u001b[1;32m    576\u001b[0m \u001b[43m        \u001b[49m\u001b[38;5;28;43mself\u001b[39;49m\u001b[38;5;241;43m.\u001b[39;49m\u001b[43m_connection\u001b[49m\u001b[38;5;241;43m.\u001b[39;49m\u001b[43mclient\u001b[49m\u001b[38;5;241;43m.\u001b[39;49m\u001b[43mstart_query_execution\u001b[49m\u001b[43m,\u001b[49m\n\u001b[1;32m    577\u001b[0m \u001b[43m        \u001b[49m\u001b[43mconfig\u001b[49m\u001b[38;5;241;43m=\u001b[39;49m\u001b[38;5;28;43mself\u001b[39;49m\u001b[38;5;241;43m.\u001b[39;49m\u001b[43m_retry_config\u001b[49m\u001b[43m,\u001b[49m\n\u001b[1;32m    578\u001b[0m \u001b[43m        \u001b[49m\u001b[43mlogger\u001b[49m\u001b[38;5;241;43m=\u001b[39;49m\u001b[43m_logger\u001b[49m\u001b[43m,\u001b[49m\n\u001b[1;32m    579\u001b[0m \u001b[43m        \u001b[49m\u001b[38;5;241;43m*\u001b[39;49m\u001b[38;5;241;43m*\u001b[39;49m\u001b[43mrequest\u001b[49m\u001b[43m,\u001b[49m\n\u001b[1;32m    580\u001b[0m \u001b[43m    \u001b[49m\u001b[43m)\u001b[49m\u001b[38;5;241m.\u001b[39mget(\u001b[38;5;124m\"\u001b[39m\u001b[38;5;124mQueryExecutionId\u001b[39m\u001b[38;5;124m\"\u001b[39m)\n\u001b[1;32m    581\u001b[0m \u001b[38;5;28;01mexcept\u001b[39;00m \u001b[38;5;167;01mException\u001b[39;00m \u001b[38;5;28;01mas\u001b[39;00m e:\n",
      "File \u001b[0;32m/opt/conda/lib/python3.8/site-packages/pyathena/util.py:84\u001b[0m, in \u001b[0;36mretry_api_call\u001b[0;34m(func, config, logger, *args, **kwargs)\u001b[0m\n\u001b[1;32m     69\u001b[0m retry \u001b[38;5;241m=\u001b[39m tenacity\u001b[38;5;241m.\u001b[39mRetrying(\n\u001b[1;32m     70\u001b[0m     retry\u001b[38;5;241m=\u001b[39mretry_if_exception(\n\u001b[1;32m     71\u001b[0m         \u001b[38;5;28;01mlambda\u001b[39;00m e: \u001b[38;5;28mgetattr\u001b[39m(e, \u001b[38;5;124m\"\u001b[39m\u001b[38;5;124mresponse\u001b[39m\u001b[38;5;124m\"\u001b[39m, {})\u001b[38;5;241m.\u001b[39mget(\u001b[38;5;124m\"\u001b[39m\u001b[38;5;124mError\u001b[39m\u001b[38;5;124m\"\u001b[39m, {})\u001b[38;5;241m.\u001b[39mget(\u001b[38;5;124m\"\u001b[39m\u001b[38;5;124mCode\u001b[39m\u001b[38;5;124m\"\u001b[39m) \u001b[38;5;129;01min\u001b[39;00m config\u001b[38;5;241m.\u001b[39mexceptions\n\u001b[0;32m   (...)\u001b[0m\n\u001b[1;32m     82\u001b[0m     reraise\u001b[38;5;241m=\u001b[39m\u001b[38;5;28;01mTrue\u001b[39;00m,\n\u001b[1;32m     83\u001b[0m )\n\u001b[0;32m---> 84\u001b[0m \u001b[38;5;28;01mreturn\u001b[39;00m \u001b[43mretry\u001b[49m\u001b[43m(\u001b[49m\u001b[43mfunc\u001b[49m\u001b[43m,\u001b[49m\u001b[43m \u001b[49m\u001b[38;5;241;43m*\u001b[39;49m\u001b[43margs\u001b[49m\u001b[43m,\u001b[49m\u001b[43m \u001b[49m\u001b[38;5;241;43m*\u001b[39;49m\u001b[38;5;241;43m*\u001b[39;49m\u001b[43mkwargs\u001b[49m\u001b[43m)\u001b[49m\n",
      "File \u001b[0;32m/opt/conda/lib/python3.8/site-packages/tenacity/__init__.py:379\u001b[0m, in \u001b[0;36mRetrying.__call__\u001b[0;34m(self, fn, *args, **kwargs)\u001b[0m\n\u001b[1;32m    378\u001b[0m \u001b[38;5;28;01mwhile\u001b[39;00m \u001b[38;5;28;01mTrue\u001b[39;00m:\n\u001b[0;32m--> 379\u001b[0m     do \u001b[38;5;241m=\u001b[39m \u001b[38;5;28;43mself\u001b[39;49m\u001b[38;5;241;43m.\u001b[39;49m\u001b[43miter\u001b[49m\u001b[43m(\u001b[49m\u001b[43mretry_state\u001b[49m\u001b[38;5;241;43m=\u001b[39;49m\u001b[43mretry_state\u001b[49m\u001b[43m)\u001b[49m\n\u001b[1;32m    380\u001b[0m     \u001b[38;5;28;01mif\u001b[39;00m \u001b[38;5;28misinstance\u001b[39m(do, DoAttempt):\n",
      "File \u001b[0;32m/opt/conda/lib/python3.8/site-packages/tenacity/__init__.py:314\u001b[0m, in \u001b[0;36mBaseRetrying.iter\u001b[0;34m(self, retry_state)\u001b[0m\n\u001b[1;32m    313\u001b[0m \u001b[38;5;28;01mif\u001b[39;00m \u001b[38;5;129;01mnot\u001b[39;00m (is_explicit_retry \u001b[38;5;129;01mor\u001b[39;00m \u001b[38;5;28mself\u001b[39m\u001b[38;5;241m.\u001b[39mretry(retry_state)):\n\u001b[0;32m--> 314\u001b[0m     \u001b[38;5;28;01mreturn\u001b[39;00m \u001b[43mfut\u001b[49m\u001b[38;5;241;43m.\u001b[39;49m\u001b[43mresult\u001b[49m\u001b[43m(\u001b[49m\u001b[43m)\u001b[49m\n\u001b[1;32m    316\u001b[0m \u001b[38;5;28;01mif\u001b[39;00m \u001b[38;5;28mself\u001b[39m\u001b[38;5;241m.\u001b[39mafter \u001b[38;5;129;01mis\u001b[39;00m \u001b[38;5;129;01mnot\u001b[39;00m \u001b[38;5;28;01mNone\u001b[39;00m:\n",
      "File \u001b[0;32m/opt/conda/lib/python3.8/concurrent/futures/_base.py:437\u001b[0m, in \u001b[0;36mFuture.result\u001b[0;34m(self, timeout)\u001b[0m\n\u001b[1;32m    436\u001b[0m \u001b[38;5;28;01melif\u001b[39;00m \u001b[38;5;28mself\u001b[39m\u001b[38;5;241m.\u001b[39m_state \u001b[38;5;241m==\u001b[39m FINISHED:\n\u001b[0;32m--> 437\u001b[0m     \u001b[38;5;28;01mreturn\u001b[39;00m \u001b[38;5;28;43mself\u001b[39;49m\u001b[38;5;241;43m.\u001b[39;49m\u001b[43m__get_result\u001b[49m\u001b[43m(\u001b[49m\u001b[43m)\u001b[49m\n\u001b[1;32m    439\u001b[0m \u001b[38;5;28mself\u001b[39m\u001b[38;5;241m.\u001b[39m_condition\u001b[38;5;241m.\u001b[39mwait(timeout)\n",
      "File \u001b[0;32m/opt/conda/lib/python3.8/concurrent/futures/_base.py:389\u001b[0m, in \u001b[0;36mFuture.__get_result\u001b[0;34m(self)\u001b[0m\n\u001b[1;32m    388\u001b[0m \u001b[38;5;28;01mtry\u001b[39;00m:\n\u001b[0;32m--> 389\u001b[0m     \u001b[38;5;28;01mraise\u001b[39;00m \u001b[38;5;28mself\u001b[39m\u001b[38;5;241m.\u001b[39m_exception\n\u001b[1;32m    390\u001b[0m \u001b[38;5;28;01mfinally\u001b[39;00m:\n\u001b[1;32m    391\u001b[0m     \u001b[38;5;66;03m# Break a reference cycle with the exception in self._exception\u001b[39;00m\n",
      "File \u001b[0;32m/opt/conda/lib/python3.8/site-packages/tenacity/__init__.py:382\u001b[0m, in \u001b[0;36mRetrying.__call__\u001b[0;34m(self, fn, *args, **kwargs)\u001b[0m\n\u001b[1;32m    381\u001b[0m \u001b[38;5;28;01mtry\u001b[39;00m:\n\u001b[0;32m--> 382\u001b[0m     result \u001b[38;5;241m=\u001b[39m \u001b[43mfn\u001b[49m\u001b[43m(\u001b[49m\u001b[38;5;241;43m*\u001b[39;49m\u001b[43margs\u001b[49m\u001b[43m,\u001b[49m\u001b[43m \u001b[49m\u001b[38;5;241;43m*\u001b[39;49m\u001b[38;5;241;43m*\u001b[39;49m\u001b[43mkwargs\u001b[49m\u001b[43m)\u001b[49m\n\u001b[1;32m    383\u001b[0m \u001b[38;5;28;01mexcept\u001b[39;00m \u001b[38;5;167;01mBaseException\u001b[39;00m:  \u001b[38;5;66;03m# noqa: B902\u001b[39;00m\n",
      "File \u001b[0;32m/opt/conda/lib/python3.8/site-packages/botocore/client.py:553\u001b[0m, in \u001b[0;36mClientCreator._create_api_method.<locals>._api_call\u001b[0;34m(self, *args, **kwargs)\u001b[0m\n\u001b[1;32m    552\u001b[0m \u001b[38;5;66;03m# The \"self\" in this scope is referring to the BaseClient.\u001b[39;00m\n\u001b[0;32m--> 553\u001b[0m \u001b[38;5;28;01mreturn\u001b[39;00m \u001b[38;5;28;43mself\u001b[39;49m\u001b[38;5;241;43m.\u001b[39;49m\u001b[43m_make_api_call\u001b[49m\u001b[43m(\u001b[49m\u001b[43moperation_name\u001b[49m\u001b[43m,\u001b[49m\u001b[43m \u001b[49m\u001b[43mkwargs\u001b[49m\u001b[43m)\u001b[49m\n",
      "File \u001b[0;32m/opt/conda/lib/python3.8/site-packages/botocore/client.py:1009\u001b[0m, in \u001b[0;36mBaseClient._make_api_call\u001b[0;34m(self, operation_name, api_params)\u001b[0m\n\u001b[1;32m   1008\u001b[0m     error_class \u001b[38;5;241m=\u001b[39m \u001b[38;5;28mself\u001b[39m\u001b[38;5;241m.\u001b[39mexceptions\u001b[38;5;241m.\u001b[39mfrom_code(error_code)\n\u001b[0;32m-> 1009\u001b[0m     \u001b[38;5;28;01mraise\u001b[39;00m error_class(parsed_response, operation_name)\n\u001b[1;32m   1010\u001b[0m \u001b[38;5;28;01melse\u001b[39;00m:\n",
      "\u001b[0;31mInvalidRequestException\u001b[0m: An error occurred (InvalidRequestException) when calling the StartQueryExecution operation: line 1:8: mismatched input 'EXTERNAL'. Expecting: 'MATERIALIZED', 'MULTI', 'OR', 'PROTECTED', 'ROLE', 'SCHEMA', 'TABLE', 'VIEW'",
      "\nThe above exception was the direct cause of the following exception:\n",
      "\u001b[0;31mDatabaseError\u001b[0m                             Traceback (most recent call last)",
      "File \u001b[0;32m/opt/conda/lib/python3.8/site-packages/pandas/io/sql.py:2056\u001b[0m, in \u001b[0;36mSQLiteDatabase.execute\u001b[0;34m(self, *args, **kwargs)\u001b[0m\n\u001b[1;32m   2055\u001b[0m \u001b[38;5;28;01mtry\u001b[39;00m:\n\u001b[0;32m-> 2056\u001b[0m     \u001b[43mcur\u001b[49m\u001b[38;5;241;43m.\u001b[39;49m\u001b[43mexecute\u001b[49m\u001b[43m(\u001b[49m\u001b[38;5;241;43m*\u001b[39;49m\u001b[43margs\u001b[49m\u001b[43m,\u001b[49m\u001b[43m \u001b[49m\u001b[38;5;241;43m*\u001b[39;49m\u001b[38;5;241;43m*\u001b[39;49m\u001b[43mkwargs\u001b[49m\u001b[43m)\u001b[49m\n\u001b[1;32m   2057\u001b[0m     \u001b[38;5;28;01mreturn\u001b[39;00m cur\n",
      "File \u001b[0;32m/opt/conda/lib/python3.8/site-packages/pyathena/cursor.py:88\u001b[0m, in \u001b[0;36mCursor.execute\u001b[0;34m(self, operation, parameters, work_group, s3_staging_dir, cache_size, cache_expiration_time, result_reuse_enable, result_reuse_minutes, **kwargs)\u001b[0m\n\u001b[1;32m     87\u001b[0m \u001b[38;5;28mself\u001b[39m\u001b[38;5;241m.\u001b[39m_reset_state()\n\u001b[0;32m---> 88\u001b[0m \u001b[38;5;28mself\u001b[39m\u001b[38;5;241m.\u001b[39mquery_id \u001b[38;5;241m=\u001b[39m \u001b[38;5;28;43mself\u001b[39;49m\u001b[38;5;241;43m.\u001b[39;49m\u001b[43m_execute\u001b[49m\u001b[43m(\u001b[49m\n\u001b[1;32m     89\u001b[0m \u001b[43m    \u001b[49m\u001b[43moperation\u001b[49m\u001b[43m,\u001b[49m\n\u001b[1;32m     90\u001b[0m \u001b[43m    \u001b[49m\u001b[43mparameters\u001b[49m\u001b[38;5;241;43m=\u001b[39;49m\u001b[43mparameters\u001b[49m\u001b[43m,\u001b[49m\n\u001b[1;32m     91\u001b[0m \u001b[43m    \u001b[49m\u001b[43mwork_group\u001b[49m\u001b[38;5;241;43m=\u001b[39;49m\u001b[43mwork_group\u001b[49m\u001b[43m,\u001b[49m\n\u001b[1;32m     92\u001b[0m \u001b[43m    \u001b[49m\u001b[43ms3_staging_dir\u001b[49m\u001b[38;5;241;43m=\u001b[39;49m\u001b[43ms3_staging_dir\u001b[49m\u001b[43m,\u001b[49m\n\u001b[1;32m     93\u001b[0m \u001b[43m    \u001b[49m\u001b[43mcache_size\u001b[49m\u001b[38;5;241;43m=\u001b[39;49m\u001b[43mcache_size\u001b[49m\u001b[43m,\u001b[49m\n\u001b[1;32m     94\u001b[0m \u001b[43m    \u001b[49m\u001b[43mcache_expiration_time\u001b[49m\u001b[38;5;241;43m=\u001b[39;49m\u001b[43mcache_expiration_time\u001b[49m\u001b[43m,\u001b[49m\n\u001b[1;32m     95\u001b[0m \u001b[43m    \u001b[49m\u001b[43mresult_reuse_enable\u001b[49m\u001b[38;5;241;43m=\u001b[39;49m\u001b[43mresult_reuse_enable\u001b[49m\u001b[43m,\u001b[49m\n\u001b[1;32m     96\u001b[0m \u001b[43m    \u001b[49m\u001b[43mresult_reuse_minutes\u001b[49m\u001b[38;5;241;43m=\u001b[39;49m\u001b[43mresult_reuse_minutes\u001b[49m\u001b[43m,\u001b[49m\n\u001b[1;32m     97\u001b[0m \u001b[43m\u001b[49m\u001b[43m)\u001b[49m\n\u001b[1;32m     98\u001b[0m query_execution \u001b[38;5;241m=\u001b[39m cast(AthenaQueryExecution, \u001b[38;5;28mself\u001b[39m\u001b[38;5;241m.\u001b[39m_poll(\u001b[38;5;28mself\u001b[39m\u001b[38;5;241m.\u001b[39mquery_id))\n",
      "File \u001b[0;32m/opt/conda/lib/python3.8/site-packages/pyathena/common.py:583\u001b[0m, in \u001b[0;36mBaseCursor._execute\u001b[0;34m(self, operation, parameters, work_group, s3_staging_dir, cache_size, cache_expiration_time, result_reuse_enable, result_reuse_minutes)\u001b[0m\n\u001b[1;32m    582\u001b[0m         _logger\u001b[38;5;241m.\u001b[39mexception(\u001b[38;5;124m\"\u001b[39m\u001b[38;5;124mFailed to execute query.\u001b[39m\u001b[38;5;124m\"\u001b[39m)\n\u001b[0;32m--> 583\u001b[0m         \u001b[38;5;28;01mraise\u001b[39;00m DatabaseError(\u001b[38;5;241m*\u001b[39me\u001b[38;5;241m.\u001b[39margs) \u001b[38;5;28;01mfrom\u001b[39;00m \u001b[38;5;21;01me\u001b[39;00m\n\u001b[1;32m    584\u001b[0m \u001b[38;5;28;01mreturn\u001b[39;00m query_id\n",
      "\u001b[0;31mDatabaseError\u001b[0m: An error occurred (InvalidRequestException) when calling the StartQueryExecution operation: line 1:8: mismatched input 'EXTERNAL'. Expecting: 'MATERIALIZED', 'MULTI', 'OR', 'PROTECTED', 'ROLE', 'SCHEMA', 'TABLE', 'VIEW'",
      "\nDuring handling of the above exception, another exception occurred:\n",
      "\u001b[0;31mNotSupportedError\u001b[0m                         Traceback (most recent call last)",
      "File \u001b[0;32m/opt/conda/lib/python3.8/site-packages/pandas/io/sql.py:2060\u001b[0m, in \u001b[0;36mSQLiteDatabase.execute\u001b[0;34m(self, *args, **kwargs)\u001b[0m\n\u001b[1;32m   2059\u001b[0m \u001b[38;5;28;01mtry\u001b[39;00m:\n\u001b[0;32m-> 2060\u001b[0m     \u001b[38;5;28;43mself\u001b[39;49m\u001b[38;5;241;43m.\u001b[39;49m\u001b[43mcon\u001b[49m\u001b[38;5;241;43m.\u001b[39;49m\u001b[43mrollback\u001b[49m\u001b[43m(\u001b[49m\u001b[43m)\u001b[49m\n\u001b[1;32m   2061\u001b[0m \u001b[38;5;28;01mexcept\u001b[39;00m \u001b[38;5;167;01mException\u001b[39;00m \u001b[38;5;28;01mas\u001b[39;00m inner_exc:  \u001b[38;5;66;03m# pragma: no cover\u001b[39;00m\n",
      "File \u001b[0;32m/opt/conda/lib/python3.8/site-packages/pyathena/connection.py:372\u001b[0m, in \u001b[0;36mConnection.rollback\u001b[0;34m(self)\u001b[0m\n\u001b[1;32m    371\u001b[0m \u001b[38;5;28;01mdef\u001b[39;00m \u001b[38;5;21mrollback\u001b[39m(\u001b[38;5;28mself\u001b[39m) \u001b[38;5;241m-\u001b[39m\u001b[38;5;241m>\u001b[39m \u001b[38;5;28;01mNone\u001b[39;00m:\n\u001b[0;32m--> 372\u001b[0m     \u001b[38;5;28;01mraise\u001b[39;00m NotSupportedError\n",
      "\u001b[0;31mNotSupportedError\u001b[0m: ",
      "\nThe above exception was the direct cause of the following exception:\n",
      "\u001b[0;31mDatabaseError\u001b[0m                             Traceback (most recent call last)",
      "Cell \u001b[0;32mIn[58], line 46\u001b[0m\n\u001b[1;32m      6\u001b[0m create_table \u001b[38;5;241m=\u001b[39m \u001b[38;5;124mf\u001b[39m\u001b[38;5;124m\"\"\"\u001b[39m\n\u001b[1;32m      7\u001b[0m \u001b[38;5;124mCREATE EXTERNAL TABLE IF NOT EXISTS \u001b[39m\u001b[38;5;132;01m{\u001b[39;00mdatabase_name\u001b[38;5;132;01m}\u001b[39;00m\u001b[38;5;124m.\u001b[39m\u001b[38;5;132;01m{\u001b[39;00mtable_name_3\u001b[38;5;132;01m}\u001b[39;00m\u001b[38;5;124m (\u001b[39m\n\u001b[1;32m      8\u001b[0m \u001b[38;5;124m    FIPS_Code string,\u001b[39m\n\u001b[0;32m   (...)\u001b[0m\n\u001b[1;32m     42\u001b[0m \u001b[38;5;124m    LOCATION \u001b[39m\u001b[38;5;124m'\u001b[39m\u001b[38;5;132;01m{\u001b[39;00mpoverty_dir\u001b[38;5;132;01m}\u001b[39;00m\u001b[38;5;124m/\u001b[39m\u001b[38;5;132;01m{\u001b[39;00mtable_name_3\u001b[38;5;132;01m}\u001b[39;00m\u001b[38;5;124m'\u001b[39m\n\u001b[1;32m     43\u001b[0m \u001b[38;5;124m\"\"\"\u001b[39m\n\u001b[1;32m     45\u001b[0m \u001b[38;5;66;03m# Execute create table statement\u001b[39;00m\n\u001b[0;32m---> 46\u001b[0m \u001b[43mpd\u001b[49m\u001b[38;5;241;43m.\u001b[39;49m\u001b[43mread_sql\u001b[49m\u001b[43m(\u001b[49m\u001b[43mcreate_table\u001b[49m\u001b[43m,\u001b[49m\u001b[43m \u001b[49m\u001b[43mconn\u001b[49m\u001b[43m)\u001b[49m\n\u001b[1;32m     48\u001b[0m pd\u001b[38;5;241m.\u001b[39mread_sql(\u001b[38;5;124mf\u001b[39m\u001b[38;5;124m'\u001b[39m\u001b[38;5;124mSELECT * FROM \u001b[39m\u001b[38;5;132;01m{\u001b[39;00mdatabase_name\u001b[38;5;132;01m}\u001b[39;00m\u001b[38;5;124m.\u001b[39m\u001b[38;5;132;01m{\u001b[39;00mtable_name_3\u001b[38;5;132;01m}\u001b[39;00m\u001b[38;5;124m LIMIT 10\u001b[39m\u001b[38;5;124m'\u001b[39m, conn)\n",
      "File \u001b[0;32m/opt/conda/lib/python3.8/site-packages/pandas/io/sql.py:602\u001b[0m, in \u001b[0;36mread_sql\u001b[0;34m(sql, con, index_col, coerce_float, params, parse_dates, columns, chunksize)\u001b[0m\n\u001b[1;32m    599\u001b[0m pandas_sql \u001b[38;5;241m=\u001b[39m pandasSQL_builder(con)\n\u001b[1;32m    601\u001b[0m \u001b[38;5;28;01mif\u001b[39;00m \u001b[38;5;28misinstance\u001b[39m(pandas_sql, SQLiteDatabase):\n\u001b[0;32m--> 602\u001b[0m     \u001b[38;5;28;01mreturn\u001b[39;00m \u001b[43mpandas_sql\u001b[49m\u001b[38;5;241;43m.\u001b[39;49m\u001b[43mread_query\u001b[49m\u001b[43m(\u001b[49m\n\u001b[1;32m    603\u001b[0m \u001b[43m        \u001b[49m\u001b[43msql\u001b[49m\u001b[43m,\u001b[49m\n\u001b[1;32m    604\u001b[0m \u001b[43m        \u001b[49m\u001b[43mindex_col\u001b[49m\u001b[38;5;241;43m=\u001b[39;49m\u001b[43mindex_col\u001b[49m\u001b[43m,\u001b[49m\n\u001b[1;32m    605\u001b[0m \u001b[43m        \u001b[49m\u001b[43mparams\u001b[49m\u001b[38;5;241;43m=\u001b[39;49m\u001b[43mparams\u001b[49m\u001b[43m,\u001b[49m\n\u001b[1;32m    606\u001b[0m \u001b[43m        \u001b[49m\u001b[43mcoerce_float\u001b[49m\u001b[38;5;241;43m=\u001b[39;49m\u001b[43mcoerce_float\u001b[49m\u001b[43m,\u001b[49m\n\u001b[1;32m    607\u001b[0m \u001b[43m        \u001b[49m\u001b[43mparse_dates\u001b[49m\u001b[38;5;241;43m=\u001b[39;49m\u001b[43mparse_dates\u001b[49m\u001b[43m,\u001b[49m\n\u001b[1;32m    608\u001b[0m \u001b[43m        \u001b[49m\u001b[43mchunksize\u001b[49m\u001b[38;5;241;43m=\u001b[39;49m\u001b[43mchunksize\u001b[49m\u001b[43m,\u001b[49m\n\u001b[1;32m    609\u001b[0m \u001b[43m    \u001b[49m\u001b[43m)\u001b[49m\n\u001b[1;32m    611\u001b[0m \u001b[38;5;28;01mtry\u001b[39;00m:\n\u001b[1;32m    612\u001b[0m     _is_table_name \u001b[38;5;241m=\u001b[39m pandas_sql\u001b[38;5;241m.\u001b[39mhas_table(sql)\n",
      "File \u001b[0;32m/opt/conda/lib/python3.8/site-packages/pandas/io/sql.py:2116\u001b[0m, in \u001b[0;36mSQLiteDatabase.read_query\u001b[0;34m(self, sql, index_col, coerce_float, params, parse_dates, chunksize, dtype)\u001b[0m\n\u001b[1;32m   2104\u001b[0m \u001b[38;5;28;01mdef\u001b[39;00m \u001b[38;5;21mread_query\u001b[39m(\n\u001b[1;32m   2105\u001b[0m     \u001b[38;5;28mself\u001b[39m,\n\u001b[1;32m   2106\u001b[0m     sql,\n\u001b[0;32m   (...)\u001b[0m\n\u001b[1;32m   2112\u001b[0m     dtype: DtypeArg \u001b[38;5;241m|\u001b[39m \u001b[38;5;28;01mNone\u001b[39;00m \u001b[38;5;241m=\u001b[39m \u001b[38;5;28;01mNone\u001b[39;00m,\n\u001b[1;32m   2113\u001b[0m ):\n\u001b[1;32m   2115\u001b[0m     args \u001b[38;5;241m=\u001b[39m _convert_params(sql, params)\n\u001b[0;32m-> 2116\u001b[0m     cursor \u001b[38;5;241m=\u001b[39m \u001b[38;5;28;43mself\u001b[39;49m\u001b[38;5;241;43m.\u001b[39;49m\u001b[43mexecute\u001b[49m\u001b[43m(\u001b[49m\u001b[38;5;241;43m*\u001b[39;49m\u001b[43margs\u001b[49m\u001b[43m)\u001b[49m\n\u001b[1;32m   2117\u001b[0m     columns \u001b[38;5;241m=\u001b[39m [col_desc[\u001b[38;5;241m0\u001b[39m] \u001b[38;5;28;01mfor\u001b[39;00m col_desc \u001b[38;5;129;01min\u001b[39;00m cursor\u001b[38;5;241m.\u001b[39mdescription]\n\u001b[1;32m   2119\u001b[0m     \u001b[38;5;28;01mif\u001b[39;00m chunksize \u001b[38;5;129;01mis\u001b[39;00m \u001b[38;5;129;01mnot\u001b[39;00m \u001b[38;5;28;01mNone\u001b[39;00m:\n",
      "File \u001b[0;32m/opt/conda/lib/python3.8/site-packages/pandas/io/sql.py:2065\u001b[0m, in \u001b[0;36mSQLiteDatabase.execute\u001b[0;34m(self, *args, **kwargs)\u001b[0m\n\u001b[1;32m   2061\u001b[0m \u001b[38;5;28;01mexcept\u001b[39;00m \u001b[38;5;167;01mException\u001b[39;00m \u001b[38;5;28;01mas\u001b[39;00m inner_exc:  \u001b[38;5;66;03m# pragma: no cover\u001b[39;00m\n\u001b[1;32m   2062\u001b[0m     ex \u001b[38;5;241m=\u001b[39m DatabaseError(\n\u001b[1;32m   2063\u001b[0m         \u001b[38;5;124mf\u001b[39m\u001b[38;5;124m\"\u001b[39m\u001b[38;5;124mExecution failed on sql: \u001b[39m\u001b[38;5;132;01m{\u001b[39;00margs[\u001b[38;5;241m0\u001b[39m]\u001b[38;5;132;01m}\u001b[39;00m\u001b[38;5;130;01m\\n\u001b[39;00m\u001b[38;5;132;01m{\u001b[39;00mexc\u001b[38;5;132;01m}\u001b[39;00m\u001b[38;5;130;01m\\n\u001b[39;00m\u001b[38;5;124munable to rollback\u001b[39m\u001b[38;5;124m\"\u001b[39m\n\u001b[1;32m   2064\u001b[0m     )\n\u001b[0;32m-> 2065\u001b[0m     \u001b[38;5;28;01mraise\u001b[39;00m ex \u001b[38;5;28;01mfrom\u001b[39;00m \u001b[38;5;21;01minner_exc\u001b[39;00m\n\u001b[1;32m   2067\u001b[0m ex \u001b[38;5;241m=\u001b[39m DatabaseError(\u001b[38;5;124mf\u001b[39m\u001b[38;5;124m\"\u001b[39m\u001b[38;5;124mExecution failed on sql \u001b[39m\u001b[38;5;124m'\u001b[39m\u001b[38;5;132;01m{\u001b[39;00margs[\u001b[38;5;241m0\u001b[39m]\u001b[38;5;132;01m}\u001b[39;00m\u001b[38;5;124m'\u001b[39m\u001b[38;5;124m: \u001b[39m\u001b[38;5;132;01m{\u001b[39;00mexc\u001b[38;5;132;01m}\u001b[39;00m\u001b[38;5;124m\"\u001b[39m)\n\u001b[1;32m   2068\u001b[0m \u001b[38;5;28;01mraise\u001b[39;00m ex \u001b[38;5;28;01mfrom\u001b[39;00m \u001b[38;5;21;01mexc\u001b[39;00m\n",
      "\u001b[0;31mDatabaseError\u001b[0m: Execution failed on sql: \nCREATE EXTERNAL TABLE IF NOT EXISTS collegeaffordability317.Poverty (\n    FIPS_Code string,\n    Stabr string,\n    Area_name string,\n    Rural-urban_Continuum_Code_2003 string,\n    Urban_Influence_Code_2003 string,\n    Rural-urban_Continuum_Code_2013 string,\n    Urban_Influence_Code_ 2013 string,\n    POVALL_2021\tCI90LBALL_2021 string,\n    CI90UBALL_2021 string,\n    PCTPOVALL_2021 string,\n    CI90LBALLP_2021 string,\n    CI90UBALLP_2021 string,\n    POV017_2021\tCI90LB017_2021 string,\n    CI90UB017_2021 string,\n    PCTPOV017_2021 string,\n    CI90LB017P_2021 string,\n    CI90UB017P_2021 string,\n    POV517_2021 string,\n    CI90LB517_2021 string,\n    CI90UB517_2021 string,\n    PCTPOV517_2021 string,\n    CI90LB517P_2021 string,\n    CI90UB517P_2021\tMEDHHINC_2021 string,\n    CI90LBINC_2021 string,\n    CI90UBINC_2021 string,\n    POV04_2021 string,\n    CI90LB04_2021 string,\n    CI90UB04_2021 string,\n    PCTPOV04_2021 string,\n    CI90LB04P_2021 string,\n    CI90UB04P_2021 string\n    )\n    ROW FORMAT DELIMITED\n    FIELDS TERMINATED BY ','\n    LOCATION 's3://collegeaffordability317/PovertyEstimates//Poverty'\n\nAn error occurred (InvalidRequestException) when calling the StartQueryExecution operation: line 1:8: mismatched input 'EXTERNAL'. Expecting: 'MATERIALIZED', 'MULTI', 'OR', 'PROTECTED', 'ROLE', 'SCHEMA', 'TABLE', 'VIEW'\nunable to rollback"
     ]
    }
   ],
   "source": [
    "# Drop the table if it already exists\n",
    "table_name_3 = 'Poverty'\n",
    "pd.read_sql(f'DROP TABLE IF EXISTS {database_name}.{table_name_3}', conn)\n",
    "\n",
    "# Define the CREATE TABLE statement with data types in lowercase\n",
    "create_table = f\"\"\"\n",
    "CREATE EXTERNAL TABLE IF NOT EXISTS {database_name}.{table_name_3} (\n",
    "    FIPS_Code string,\n",
    "    Stabr string,\n",
    "    Area_name string,\n",
    "    Rural-urban_Continuum_Code_2003 string,\n",
    "    Urban_Influence_Code_2003 string,\n",
    "    Rural-urban_Continuum_Code_2013 string,\n",
    "    Urban_Influence_Code_ 2013 string,\n",
    "    POVALL_2021\tCI90LBALL_2021 string,\n",
    "    CI90UBALL_2021 string,\n",
    "    PCTPOVALL_2021 string,\n",
    "    CI90LBALLP_2021 string,\n",
    "    CI90UBALLP_2021 string,\n",
    "    POV017_2021\tCI90LB017_2021 string,\n",
    "    CI90UB017_2021 string,\n",
    "    PCTPOV017_2021 string,\n",
    "    CI90LB017P_2021 string,\n",
    "    CI90UB017P_2021 string,\n",
    "    POV517_2021 string,\n",
    "    CI90LB517_2021 string,\n",
    "    CI90UB517_2021 string,\n",
    "    PCTPOV517_2021 string,\n",
    "    CI90LB517P_2021 string,\n",
    "    CI90UB517P_2021\tMEDHHINC_2021 string,\n",
    "    CI90LBINC_2021 string,\n",
    "    CI90UBINC_2021 string,\n",
    "    POV04_2021 string,\n",
    "    CI90LB04_2021 string,\n",
    "    CI90UB04_2021 string,\n",
    "    PCTPOV04_2021 string,\n",
    "    CI90LB04P_2021 string,\n",
    "    CI90UB04P_2021 string\n",
    "    )\n",
    "    ROW FORMAT DELIMITED\n",
    "    FIELDS TERMINATED BY ','\n",
    "    LOCATION '{poverty_dir}/{table_name_3}'\n",
    "\"\"\"\n",
    "\n",
    "# Execute create table statement\n",
    "pd.read_sql(create_table, conn)\n",
    "\n",
    "pd.read_sql(f'SELECT * FROM {database_name}.{table_name_3} LIMIT 10', conn)"
   ]
  },
  {
   "cell_type": "code",
   "execution_count": 59,
   "id": "df3ab88b-d5fd-4cf3-8e39-f26583e414c9",
   "metadata": {},
   "outputs": [],
   "source": [
    "unemployment_dir = 's3://collegeaffordability317/Unemployment/'"
   ]
  },
  {
   "cell_type": "code",
   "execution_count": 60,
   "id": "a882e8d9-43cc-4582-a474-4165338f6c64",
   "metadata": {},
   "outputs": [
    {
     "name": "stderr",
     "output_type": "stream",
     "text": [
      "Failed to execute query.\n",
      "Traceback (most recent call last):\n",
      "  File \"/opt/conda/lib/python3.8/site-packages/pyathena/common.py\", line 575, in _execute\n",
      "    query_id = retry_api_call(\n",
      "  File \"/opt/conda/lib/python3.8/site-packages/pyathena/util.py\", line 84, in retry_api_call\n",
      "    return retry(func, *args, **kwargs)\n",
      "  File \"/opt/conda/lib/python3.8/site-packages/tenacity/__init__.py\", line 379, in __call__\n",
      "    do = self.iter(retry_state=retry_state)\n",
      "  File \"/opt/conda/lib/python3.8/site-packages/tenacity/__init__.py\", line 314, in iter\n",
      "    return fut.result()\n",
      "  File \"/opt/conda/lib/python3.8/concurrent/futures/_base.py\", line 437, in result\n",
      "    return self.__get_result()\n",
      "  File \"/opt/conda/lib/python3.8/concurrent/futures/_base.py\", line 389, in __get_result\n",
      "    raise self._exception\n",
      "  File \"/opt/conda/lib/python3.8/site-packages/tenacity/__init__.py\", line 382, in __call__\n",
      "    result = fn(*args, **kwargs)\n",
      "  File \"/opt/conda/lib/python3.8/site-packages/botocore/client.py\", line 553, in _api_call\n",
      "    return self._make_api_call(operation_name, kwargs)\n",
      "  File \"/opt/conda/lib/python3.8/site-packages/botocore/client.py\", line 1009, in _make_api_call\n",
      "    raise error_class(parsed_response, operation_name)\n",
      "botocore.errorfactory.InvalidRequestException: An error occurred (InvalidRequestException) when calling the StartQueryExecution operation: line 1:8: mismatched input 'EXTERNAL'. Expecting: 'MATERIALIZED', 'MULTI', 'OR', 'PROTECTED', 'ROLE', 'SCHEMA', 'TABLE', 'VIEW'\n"
     ]
    },
    {
     "ename": "DatabaseError",
     "evalue": "Execution failed on sql: \nCREATE EXTERNAL TABLE IF NOT EXISTS collegeaffordability317.Unemployment (\n    FIPS_Code,\n    State,\n    Area_Name,\n    Rural_Urban_Continuum_Code_2013,\n    Urban_Influence_Code_2013,\n    Metro_2013,\n    Civilian_labor_force_2000,\n    Employed_2000,\n    Unemployed_2000,\n    Unemployment_rate_2000,\n    Civilian_labor_force_2001,\n    Employed_2001,\n    Unemployed_2001,\n    Unemployment_rate_2001,\n    Civilian_labor_force_2002,\n    Employed_2002,\n    Unemployed_2002,\n    Unemployment_rate_2002,\n    Civilian_labor_force_2003,\n    Employed_2003,\n    Unemployed_2003,\n    Unemployment_rate_2003,\n    Civilian_labor_force_2004,\n    Employed_2004,\n    Unemployed_2004,\n    Unemployment_rate_2004,\n    Civilian_labor_force_2005,\n    Employed_2005,\n    Unemployed_2005,\n    Unemployment_rate_2005,\n    Civilian_labor_force_2006,\n    Employed_2006,\n    Unemployed_2006,\n    Unemployment_rate_2006,\n    Civilian_labor_force_2007,\n    Employed_2007,\n    Unemployed_2007,\n    Unemployment_rate_2007,\n    Civilian_labor_force_2008,\n    Employed_2008,\n    Unemployed_2008,\n    Unemployment_rate_2008,\n    Civilian_labor_force_2009,\n    Employed_2009,\t\n    Unemployed_2009,\n    Unemployment_rate_2009,\n    Civilian_labor_force_2010,\n    Employed_2010,\n    Unemployed_2010,\n    Unemployment_rate_2010,\n    Civilian_labor_force_2011,\n    Employed_2011,\n    Unemployed_2011,\n    Unemployment_rate_2011,\n    Civilian_labor_force_2012,\n    Employed_2012,\n    Unemployed_2012,\n    Unemployment_rate_2012,\n    Civilian_labor_force_2013,\n    Employed_2013,\n    Unemployed_2013,\n    Unemployment_rate_2013,\n    Civilian_labor_force_2014,\n    Employed_2014,\n    Unemployed_2014,\n    Unemployment_rate_2014,\n    Civilian_labor_force_2015,\n    Employed_2015,\n    Unemployed_2015,\n    Unemployment_rate_2015,\n    Civilian_labor_force_2016,\n    Employed_2016,\n    Unemployed_2016,\n    Unemployment_rate_2016,\n    Civilian_labor_force_2017,\n    Employed_2017,\n    Unemployed_2017,\n    Unemployment_rate_2017,\n    Civilian_labor_force_2018,\n    Employed_2018,\n    Unemployed_2018,\n    Unemployment_rate_2018,\n    Civilian_labor_force_2019,\n    Employed_2019,\n    Unemployed_2019,\n    Unemployment_rate_2019,\n    Civilian_labor_force_2020,\n    Employed_2020,\n    Unemployed_2020,\n    Unemployment_rate_2020,\n    Civilian_labor_force_2021,\n    Employed_2021,\n    Unemployed_2021,\n    Unemployment_rate_2021,\n    Civilian_labor_force_2022,\n    Employed_2022,\n    Unemployed_2022,\n    Unemployment_rate_2022,\n    Median_Household_Income_2021,\n    Med_HH_Income_Percent_of_State_Total_2021\n    )\n    ROW FORMAT DELIMITED\n    FIELDS TERMINATED BY ','\n    LOCATION 's3://collegeaffordability317/Unemployment//Poverty'\n\nAn error occurred (InvalidRequestException) when calling the StartQueryExecution operation: line 1:8: mismatched input 'EXTERNAL'. Expecting: 'MATERIALIZED', 'MULTI', 'OR', 'PROTECTED', 'ROLE', 'SCHEMA', 'TABLE', 'VIEW'\nunable to rollback",
     "output_type": "error",
     "traceback": [
      "\u001b[0;31m---------------------------------------------------------------------------\u001b[0m",
      "\u001b[0;31mInvalidRequestException\u001b[0m                   Traceback (most recent call last)",
      "File \u001b[0;32m/opt/conda/lib/python3.8/site-packages/pyathena/common.py:575\u001b[0m, in \u001b[0;36mBaseCursor._execute\u001b[0;34m(self, operation, parameters, work_group, s3_staging_dir, cache_size, cache_expiration_time, result_reuse_enable, result_reuse_minutes)\u001b[0m\n\u001b[1;32m    574\u001b[0m \u001b[38;5;28;01mtry\u001b[39;00m:\n\u001b[0;32m--> 575\u001b[0m     query_id \u001b[38;5;241m=\u001b[39m \u001b[43mretry_api_call\u001b[49m\u001b[43m(\u001b[49m\n\u001b[1;32m    576\u001b[0m \u001b[43m        \u001b[49m\u001b[38;5;28;43mself\u001b[39;49m\u001b[38;5;241;43m.\u001b[39;49m\u001b[43m_connection\u001b[49m\u001b[38;5;241;43m.\u001b[39;49m\u001b[43mclient\u001b[49m\u001b[38;5;241;43m.\u001b[39;49m\u001b[43mstart_query_execution\u001b[49m\u001b[43m,\u001b[49m\n\u001b[1;32m    577\u001b[0m \u001b[43m        \u001b[49m\u001b[43mconfig\u001b[49m\u001b[38;5;241;43m=\u001b[39;49m\u001b[38;5;28;43mself\u001b[39;49m\u001b[38;5;241;43m.\u001b[39;49m\u001b[43m_retry_config\u001b[49m\u001b[43m,\u001b[49m\n\u001b[1;32m    578\u001b[0m \u001b[43m        \u001b[49m\u001b[43mlogger\u001b[49m\u001b[38;5;241;43m=\u001b[39;49m\u001b[43m_logger\u001b[49m\u001b[43m,\u001b[49m\n\u001b[1;32m    579\u001b[0m \u001b[43m        \u001b[49m\u001b[38;5;241;43m*\u001b[39;49m\u001b[38;5;241;43m*\u001b[39;49m\u001b[43mrequest\u001b[49m\u001b[43m,\u001b[49m\n\u001b[1;32m    580\u001b[0m \u001b[43m    \u001b[49m\u001b[43m)\u001b[49m\u001b[38;5;241m.\u001b[39mget(\u001b[38;5;124m\"\u001b[39m\u001b[38;5;124mQueryExecutionId\u001b[39m\u001b[38;5;124m\"\u001b[39m)\n\u001b[1;32m    581\u001b[0m \u001b[38;5;28;01mexcept\u001b[39;00m \u001b[38;5;167;01mException\u001b[39;00m \u001b[38;5;28;01mas\u001b[39;00m e:\n",
      "File \u001b[0;32m/opt/conda/lib/python3.8/site-packages/pyathena/util.py:84\u001b[0m, in \u001b[0;36mretry_api_call\u001b[0;34m(func, config, logger, *args, **kwargs)\u001b[0m\n\u001b[1;32m     69\u001b[0m retry \u001b[38;5;241m=\u001b[39m tenacity\u001b[38;5;241m.\u001b[39mRetrying(\n\u001b[1;32m     70\u001b[0m     retry\u001b[38;5;241m=\u001b[39mretry_if_exception(\n\u001b[1;32m     71\u001b[0m         \u001b[38;5;28;01mlambda\u001b[39;00m e: \u001b[38;5;28mgetattr\u001b[39m(e, \u001b[38;5;124m\"\u001b[39m\u001b[38;5;124mresponse\u001b[39m\u001b[38;5;124m\"\u001b[39m, {})\u001b[38;5;241m.\u001b[39mget(\u001b[38;5;124m\"\u001b[39m\u001b[38;5;124mError\u001b[39m\u001b[38;5;124m\"\u001b[39m, {})\u001b[38;5;241m.\u001b[39mget(\u001b[38;5;124m\"\u001b[39m\u001b[38;5;124mCode\u001b[39m\u001b[38;5;124m\"\u001b[39m) \u001b[38;5;129;01min\u001b[39;00m config\u001b[38;5;241m.\u001b[39mexceptions\n\u001b[0;32m   (...)\u001b[0m\n\u001b[1;32m     82\u001b[0m     reraise\u001b[38;5;241m=\u001b[39m\u001b[38;5;28;01mTrue\u001b[39;00m,\n\u001b[1;32m     83\u001b[0m )\n\u001b[0;32m---> 84\u001b[0m \u001b[38;5;28;01mreturn\u001b[39;00m \u001b[43mretry\u001b[49m\u001b[43m(\u001b[49m\u001b[43mfunc\u001b[49m\u001b[43m,\u001b[49m\u001b[43m \u001b[49m\u001b[38;5;241;43m*\u001b[39;49m\u001b[43margs\u001b[49m\u001b[43m,\u001b[49m\u001b[43m \u001b[49m\u001b[38;5;241;43m*\u001b[39;49m\u001b[38;5;241;43m*\u001b[39;49m\u001b[43mkwargs\u001b[49m\u001b[43m)\u001b[49m\n",
      "File \u001b[0;32m/opt/conda/lib/python3.8/site-packages/tenacity/__init__.py:379\u001b[0m, in \u001b[0;36mRetrying.__call__\u001b[0;34m(self, fn, *args, **kwargs)\u001b[0m\n\u001b[1;32m    378\u001b[0m \u001b[38;5;28;01mwhile\u001b[39;00m \u001b[38;5;28;01mTrue\u001b[39;00m:\n\u001b[0;32m--> 379\u001b[0m     do \u001b[38;5;241m=\u001b[39m \u001b[38;5;28;43mself\u001b[39;49m\u001b[38;5;241;43m.\u001b[39;49m\u001b[43miter\u001b[49m\u001b[43m(\u001b[49m\u001b[43mretry_state\u001b[49m\u001b[38;5;241;43m=\u001b[39;49m\u001b[43mretry_state\u001b[49m\u001b[43m)\u001b[49m\n\u001b[1;32m    380\u001b[0m     \u001b[38;5;28;01mif\u001b[39;00m \u001b[38;5;28misinstance\u001b[39m(do, DoAttempt):\n",
      "File \u001b[0;32m/opt/conda/lib/python3.8/site-packages/tenacity/__init__.py:314\u001b[0m, in \u001b[0;36mBaseRetrying.iter\u001b[0;34m(self, retry_state)\u001b[0m\n\u001b[1;32m    313\u001b[0m \u001b[38;5;28;01mif\u001b[39;00m \u001b[38;5;129;01mnot\u001b[39;00m (is_explicit_retry \u001b[38;5;129;01mor\u001b[39;00m \u001b[38;5;28mself\u001b[39m\u001b[38;5;241m.\u001b[39mretry(retry_state)):\n\u001b[0;32m--> 314\u001b[0m     \u001b[38;5;28;01mreturn\u001b[39;00m \u001b[43mfut\u001b[49m\u001b[38;5;241;43m.\u001b[39;49m\u001b[43mresult\u001b[49m\u001b[43m(\u001b[49m\u001b[43m)\u001b[49m\n\u001b[1;32m    316\u001b[0m \u001b[38;5;28;01mif\u001b[39;00m \u001b[38;5;28mself\u001b[39m\u001b[38;5;241m.\u001b[39mafter \u001b[38;5;129;01mis\u001b[39;00m \u001b[38;5;129;01mnot\u001b[39;00m \u001b[38;5;28;01mNone\u001b[39;00m:\n",
      "File \u001b[0;32m/opt/conda/lib/python3.8/concurrent/futures/_base.py:437\u001b[0m, in \u001b[0;36mFuture.result\u001b[0;34m(self, timeout)\u001b[0m\n\u001b[1;32m    436\u001b[0m \u001b[38;5;28;01melif\u001b[39;00m \u001b[38;5;28mself\u001b[39m\u001b[38;5;241m.\u001b[39m_state \u001b[38;5;241m==\u001b[39m FINISHED:\n\u001b[0;32m--> 437\u001b[0m     \u001b[38;5;28;01mreturn\u001b[39;00m \u001b[38;5;28;43mself\u001b[39;49m\u001b[38;5;241;43m.\u001b[39;49m\u001b[43m__get_result\u001b[49m\u001b[43m(\u001b[49m\u001b[43m)\u001b[49m\n\u001b[1;32m    439\u001b[0m \u001b[38;5;28mself\u001b[39m\u001b[38;5;241m.\u001b[39m_condition\u001b[38;5;241m.\u001b[39mwait(timeout)\n",
      "File \u001b[0;32m/opt/conda/lib/python3.8/concurrent/futures/_base.py:389\u001b[0m, in \u001b[0;36mFuture.__get_result\u001b[0;34m(self)\u001b[0m\n\u001b[1;32m    388\u001b[0m \u001b[38;5;28;01mtry\u001b[39;00m:\n\u001b[0;32m--> 389\u001b[0m     \u001b[38;5;28;01mraise\u001b[39;00m \u001b[38;5;28mself\u001b[39m\u001b[38;5;241m.\u001b[39m_exception\n\u001b[1;32m    390\u001b[0m \u001b[38;5;28;01mfinally\u001b[39;00m:\n\u001b[1;32m    391\u001b[0m     \u001b[38;5;66;03m# Break a reference cycle with the exception in self._exception\u001b[39;00m\n",
      "File \u001b[0;32m/opt/conda/lib/python3.8/site-packages/tenacity/__init__.py:382\u001b[0m, in \u001b[0;36mRetrying.__call__\u001b[0;34m(self, fn, *args, **kwargs)\u001b[0m\n\u001b[1;32m    381\u001b[0m \u001b[38;5;28;01mtry\u001b[39;00m:\n\u001b[0;32m--> 382\u001b[0m     result \u001b[38;5;241m=\u001b[39m \u001b[43mfn\u001b[49m\u001b[43m(\u001b[49m\u001b[38;5;241;43m*\u001b[39;49m\u001b[43margs\u001b[49m\u001b[43m,\u001b[49m\u001b[43m \u001b[49m\u001b[38;5;241;43m*\u001b[39;49m\u001b[38;5;241;43m*\u001b[39;49m\u001b[43mkwargs\u001b[49m\u001b[43m)\u001b[49m\n\u001b[1;32m    383\u001b[0m \u001b[38;5;28;01mexcept\u001b[39;00m \u001b[38;5;167;01mBaseException\u001b[39;00m:  \u001b[38;5;66;03m# noqa: B902\u001b[39;00m\n",
      "File \u001b[0;32m/opt/conda/lib/python3.8/site-packages/botocore/client.py:553\u001b[0m, in \u001b[0;36mClientCreator._create_api_method.<locals>._api_call\u001b[0;34m(self, *args, **kwargs)\u001b[0m\n\u001b[1;32m    552\u001b[0m \u001b[38;5;66;03m# The \"self\" in this scope is referring to the BaseClient.\u001b[39;00m\n\u001b[0;32m--> 553\u001b[0m \u001b[38;5;28;01mreturn\u001b[39;00m \u001b[38;5;28;43mself\u001b[39;49m\u001b[38;5;241;43m.\u001b[39;49m\u001b[43m_make_api_call\u001b[49m\u001b[43m(\u001b[49m\u001b[43moperation_name\u001b[49m\u001b[43m,\u001b[49m\u001b[43m \u001b[49m\u001b[43mkwargs\u001b[49m\u001b[43m)\u001b[49m\n",
      "File \u001b[0;32m/opt/conda/lib/python3.8/site-packages/botocore/client.py:1009\u001b[0m, in \u001b[0;36mBaseClient._make_api_call\u001b[0;34m(self, operation_name, api_params)\u001b[0m\n\u001b[1;32m   1008\u001b[0m     error_class \u001b[38;5;241m=\u001b[39m \u001b[38;5;28mself\u001b[39m\u001b[38;5;241m.\u001b[39mexceptions\u001b[38;5;241m.\u001b[39mfrom_code(error_code)\n\u001b[0;32m-> 1009\u001b[0m     \u001b[38;5;28;01mraise\u001b[39;00m error_class(parsed_response, operation_name)\n\u001b[1;32m   1010\u001b[0m \u001b[38;5;28;01melse\u001b[39;00m:\n",
      "\u001b[0;31mInvalidRequestException\u001b[0m: An error occurred (InvalidRequestException) when calling the StartQueryExecution operation: line 1:8: mismatched input 'EXTERNAL'. Expecting: 'MATERIALIZED', 'MULTI', 'OR', 'PROTECTED', 'ROLE', 'SCHEMA', 'TABLE', 'VIEW'",
      "\nThe above exception was the direct cause of the following exception:\n",
      "\u001b[0;31mDatabaseError\u001b[0m                             Traceback (most recent call last)",
      "File \u001b[0;32m/opt/conda/lib/python3.8/site-packages/pandas/io/sql.py:2056\u001b[0m, in \u001b[0;36mSQLiteDatabase.execute\u001b[0;34m(self, *args, **kwargs)\u001b[0m\n\u001b[1;32m   2055\u001b[0m \u001b[38;5;28;01mtry\u001b[39;00m:\n\u001b[0;32m-> 2056\u001b[0m     \u001b[43mcur\u001b[49m\u001b[38;5;241;43m.\u001b[39;49m\u001b[43mexecute\u001b[49m\u001b[43m(\u001b[49m\u001b[38;5;241;43m*\u001b[39;49m\u001b[43margs\u001b[49m\u001b[43m,\u001b[49m\u001b[43m \u001b[49m\u001b[38;5;241;43m*\u001b[39;49m\u001b[38;5;241;43m*\u001b[39;49m\u001b[43mkwargs\u001b[49m\u001b[43m)\u001b[49m\n\u001b[1;32m   2057\u001b[0m     \u001b[38;5;28;01mreturn\u001b[39;00m cur\n",
      "File \u001b[0;32m/opt/conda/lib/python3.8/site-packages/pyathena/cursor.py:88\u001b[0m, in \u001b[0;36mCursor.execute\u001b[0;34m(self, operation, parameters, work_group, s3_staging_dir, cache_size, cache_expiration_time, result_reuse_enable, result_reuse_minutes, **kwargs)\u001b[0m\n\u001b[1;32m     87\u001b[0m \u001b[38;5;28mself\u001b[39m\u001b[38;5;241m.\u001b[39m_reset_state()\n\u001b[0;32m---> 88\u001b[0m \u001b[38;5;28mself\u001b[39m\u001b[38;5;241m.\u001b[39mquery_id \u001b[38;5;241m=\u001b[39m \u001b[38;5;28;43mself\u001b[39;49m\u001b[38;5;241;43m.\u001b[39;49m\u001b[43m_execute\u001b[49m\u001b[43m(\u001b[49m\n\u001b[1;32m     89\u001b[0m \u001b[43m    \u001b[49m\u001b[43moperation\u001b[49m\u001b[43m,\u001b[49m\n\u001b[1;32m     90\u001b[0m \u001b[43m    \u001b[49m\u001b[43mparameters\u001b[49m\u001b[38;5;241;43m=\u001b[39;49m\u001b[43mparameters\u001b[49m\u001b[43m,\u001b[49m\n\u001b[1;32m     91\u001b[0m \u001b[43m    \u001b[49m\u001b[43mwork_group\u001b[49m\u001b[38;5;241;43m=\u001b[39;49m\u001b[43mwork_group\u001b[49m\u001b[43m,\u001b[49m\n\u001b[1;32m     92\u001b[0m \u001b[43m    \u001b[49m\u001b[43ms3_staging_dir\u001b[49m\u001b[38;5;241;43m=\u001b[39;49m\u001b[43ms3_staging_dir\u001b[49m\u001b[43m,\u001b[49m\n\u001b[1;32m     93\u001b[0m \u001b[43m    \u001b[49m\u001b[43mcache_size\u001b[49m\u001b[38;5;241;43m=\u001b[39;49m\u001b[43mcache_size\u001b[49m\u001b[43m,\u001b[49m\n\u001b[1;32m     94\u001b[0m \u001b[43m    \u001b[49m\u001b[43mcache_expiration_time\u001b[49m\u001b[38;5;241;43m=\u001b[39;49m\u001b[43mcache_expiration_time\u001b[49m\u001b[43m,\u001b[49m\n\u001b[1;32m     95\u001b[0m \u001b[43m    \u001b[49m\u001b[43mresult_reuse_enable\u001b[49m\u001b[38;5;241;43m=\u001b[39;49m\u001b[43mresult_reuse_enable\u001b[49m\u001b[43m,\u001b[49m\n\u001b[1;32m     96\u001b[0m \u001b[43m    \u001b[49m\u001b[43mresult_reuse_minutes\u001b[49m\u001b[38;5;241;43m=\u001b[39;49m\u001b[43mresult_reuse_minutes\u001b[49m\u001b[43m,\u001b[49m\n\u001b[1;32m     97\u001b[0m \u001b[43m\u001b[49m\u001b[43m)\u001b[49m\n\u001b[1;32m     98\u001b[0m query_execution \u001b[38;5;241m=\u001b[39m cast(AthenaQueryExecution, \u001b[38;5;28mself\u001b[39m\u001b[38;5;241m.\u001b[39m_poll(\u001b[38;5;28mself\u001b[39m\u001b[38;5;241m.\u001b[39mquery_id))\n",
      "File \u001b[0;32m/opt/conda/lib/python3.8/site-packages/pyathena/common.py:583\u001b[0m, in \u001b[0;36mBaseCursor._execute\u001b[0;34m(self, operation, parameters, work_group, s3_staging_dir, cache_size, cache_expiration_time, result_reuse_enable, result_reuse_minutes)\u001b[0m\n\u001b[1;32m    582\u001b[0m         _logger\u001b[38;5;241m.\u001b[39mexception(\u001b[38;5;124m\"\u001b[39m\u001b[38;5;124mFailed to execute query.\u001b[39m\u001b[38;5;124m\"\u001b[39m)\n\u001b[0;32m--> 583\u001b[0m         \u001b[38;5;28;01mraise\u001b[39;00m DatabaseError(\u001b[38;5;241m*\u001b[39me\u001b[38;5;241m.\u001b[39margs) \u001b[38;5;28;01mfrom\u001b[39;00m \u001b[38;5;21;01me\u001b[39;00m\n\u001b[1;32m    584\u001b[0m \u001b[38;5;28;01mreturn\u001b[39;00m query_id\n",
      "\u001b[0;31mDatabaseError\u001b[0m: An error occurred (InvalidRequestException) when calling the StartQueryExecution operation: line 1:8: mismatched input 'EXTERNAL'. Expecting: 'MATERIALIZED', 'MULTI', 'OR', 'PROTECTED', 'ROLE', 'SCHEMA', 'TABLE', 'VIEW'",
      "\nDuring handling of the above exception, another exception occurred:\n",
      "\u001b[0;31mNotSupportedError\u001b[0m                         Traceback (most recent call last)",
      "File \u001b[0;32m/opt/conda/lib/python3.8/site-packages/pandas/io/sql.py:2060\u001b[0m, in \u001b[0;36mSQLiteDatabase.execute\u001b[0;34m(self, *args, **kwargs)\u001b[0m\n\u001b[1;32m   2059\u001b[0m \u001b[38;5;28;01mtry\u001b[39;00m:\n\u001b[0;32m-> 2060\u001b[0m     \u001b[38;5;28;43mself\u001b[39;49m\u001b[38;5;241;43m.\u001b[39;49m\u001b[43mcon\u001b[49m\u001b[38;5;241;43m.\u001b[39;49m\u001b[43mrollback\u001b[49m\u001b[43m(\u001b[49m\u001b[43m)\u001b[49m\n\u001b[1;32m   2061\u001b[0m \u001b[38;5;28;01mexcept\u001b[39;00m \u001b[38;5;167;01mException\u001b[39;00m \u001b[38;5;28;01mas\u001b[39;00m inner_exc:  \u001b[38;5;66;03m# pragma: no cover\u001b[39;00m\n",
      "File \u001b[0;32m/opt/conda/lib/python3.8/site-packages/pyathena/connection.py:372\u001b[0m, in \u001b[0;36mConnection.rollback\u001b[0;34m(self)\u001b[0m\n\u001b[1;32m    371\u001b[0m \u001b[38;5;28;01mdef\u001b[39;00m \u001b[38;5;21mrollback\u001b[39m(\u001b[38;5;28mself\u001b[39m) \u001b[38;5;241m-\u001b[39m\u001b[38;5;241m>\u001b[39m \u001b[38;5;28;01mNone\u001b[39;00m:\n\u001b[0;32m--> 372\u001b[0m     \u001b[38;5;28;01mraise\u001b[39;00m NotSupportedError\n",
      "\u001b[0;31mNotSupportedError\u001b[0m: ",
      "\nThe above exception was the direct cause of the following exception:\n",
      "\u001b[0;31mDatabaseError\u001b[0m                             Traceback (most recent call last)",
      "Cell \u001b[0;32mIn[60], line 115\u001b[0m\n\u001b[1;32m      6\u001b[0m create_table \u001b[38;5;241m=\u001b[39m \u001b[38;5;124mf\u001b[39m\u001b[38;5;124m\"\"\"\u001b[39m\n\u001b[1;32m      7\u001b[0m \u001b[38;5;124mCREATE EXTERNAL TABLE IF NOT EXISTS \u001b[39m\u001b[38;5;132;01m{\u001b[39;00mdatabase_name\u001b[38;5;132;01m}\u001b[39;00m\u001b[38;5;124m.\u001b[39m\u001b[38;5;132;01m{\u001b[39;00mtable_name_4\u001b[38;5;132;01m}\u001b[39;00m\u001b[38;5;124m (\u001b[39m\n\u001b[1;32m      8\u001b[0m \u001b[38;5;124m    FIPS_Code,\u001b[39m\n\u001b[0;32m   (...)\u001b[0m\n\u001b[1;32m    111\u001b[0m \u001b[38;5;124m    LOCATION \u001b[39m\u001b[38;5;124m'\u001b[39m\u001b[38;5;132;01m{\u001b[39;00munemployment_dir\u001b[38;5;132;01m}\u001b[39;00m\u001b[38;5;124m/\u001b[39m\u001b[38;5;132;01m{\u001b[39;00mtable_name_3\u001b[38;5;132;01m}\u001b[39;00m\u001b[38;5;124m'\u001b[39m\n\u001b[1;32m    112\u001b[0m \u001b[38;5;124m\"\"\"\u001b[39m\n\u001b[1;32m    114\u001b[0m \u001b[38;5;66;03m# Execute create table statement\u001b[39;00m\n\u001b[0;32m--> 115\u001b[0m \u001b[43mpd\u001b[49m\u001b[38;5;241;43m.\u001b[39;49m\u001b[43mread_sql\u001b[49m\u001b[43m(\u001b[49m\u001b[43mcreate_table\u001b[49m\u001b[43m,\u001b[49m\u001b[43m \u001b[49m\u001b[43mconn\u001b[49m\u001b[43m)\u001b[49m\n\u001b[1;32m    117\u001b[0m pd\u001b[38;5;241m.\u001b[39mread_sql(\u001b[38;5;124mf\u001b[39m\u001b[38;5;124m'\u001b[39m\u001b[38;5;124mSELECT * FROM \u001b[39m\u001b[38;5;132;01m{\u001b[39;00mdatabase_name\u001b[38;5;132;01m}\u001b[39;00m\u001b[38;5;124m.\u001b[39m\u001b[38;5;132;01m{\u001b[39;00mtable_name_3\u001b[38;5;132;01m}\u001b[39;00m\u001b[38;5;124m LIMIT 10\u001b[39m\u001b[38;5;124m'\u001b[39m, conn)\n",
      "File \u001b[0;32m/opt/conda/lib/python3.8/site-packages/pandas/io/sql.py:602\u001b[0m, in \u001b[0;36mread_sql\u001b[0;34m(sql, con, index_col, coerce_float, params, parse_dates, columns, chunksize)\u001b[0m\n\u001b[1;32m    599\u001b[0m pandas_sql \u001b[38;5;241m=\u001b[39m pandasSQL_builder(con)\n\u001b[1;32m    601\u001b[0m \u001b[38;5;28;01mif\u001b[39;00m \u001b[38;5;28misinstance\u001b[39m(pandas_sql, SQLiteDatabase):\n\u001b[0;32m--> 602\u001b[0m     \u001b[38;5;28;01mreturn\u001b[39;00m \u001b[43mpandas_sql\u001b[49m\u001b[38;5;241;43m.\u001b[39;49m\u001b[43mread_query\u001b[49m\u001b[43m(\u001b[49m\n\u001b[1;32m    603\u001b[0m \u001b[43m        \u001b[49m\u001b[43msql\u001b[49m\u001b[43m,\u001b[49m\n\u001b[1;32m    604\u001b[0m \u001b[43m        \u001b[49m\u001b[43mindex_col\u001b[49m\u001b[38;5;241;43m=\u001b[39;49m\u001b[43mindex_col\u001b[49m\u001b[43m,\u001b[49m\n\u001b[1;32m    605\u001b[0m \u001b[43m        \u001b[49m\u001b[43mparams\u001b[49m\u001b[38;5;241;43m=\u001b[39;49m\u001b[43mparams\u001b[49m\u001b[43m,\u001b[49m\n\u001b[1;32m    606\u001b[0m \u001b[43m        \u001b[49m\u001b[43mcoerce_float\u001b[49m\u001b[38;5;241;43m=\u001b[39;49m\u001b[43mcoerce_float\u001b[49m\u001b[43m,\u001b[49m\n\u001b[1;32m    607\u001b[0m \u001b[43m        \u001b[49m\u001b[43mparse_dates\u001b[49m\u001b[38;5;241;43m=\u001b[39;49m\u001b[43mparse_dates\u001b[49m\u001b[43m,\u001b[49m\n\u001b[1;32m    608\u001b[0m \u001b[43m        \u001b[49m\u001b[43mchunksize\u001b[49m\u001b[38;5;241;43m=\u001b[39;49m\u001b[43mchunksize\u001b[49m\u001b[43m,\u001b[49m\n\u001b[1;32m    609\u001b[0m \u001b[43m    \u001b[49m\u001b[43m)\u001b[49m\n\u001b[1;32m    611\u001b[0m \u001b[38;5;28;01mtry\u001b[39;00m:\n\u001b[1;32m    612\u001b[0m     _is_table_name \u001b[38;5;241m=\u001b[39m pandas_sql\u001b[38;5;241m.\u001b[39mhas_table(sql)\n",
      "File \u001b[0;32m/opt/conda/lib/python3.8/site-packages/pandas/io/sql.py:2116\u001b[0m, in \u001b[0;36mSQLiteDatabase.read_query\u001b[0;34m(self, sql, index_col, coerce_float, params, parse_dates, chunksize, dtype)\u001b[0m\n\u001b[1;32m   2104\u001b[0m \u001b[38;5;28;01mdef\u001b[39;00m \u001b[38;5;21mread_query\u001b[39m(\n\u001b[1;32m   2105\u001b[0m     \u001b[38;5;28mself\u001b[39m,\n\u001b[1;32m   2106\u001b[0m     sql,\n\u001b[0;32m   (...)\u001b[0m\n\u001b[1;32m   2112\u001b[0m     dtype: DtypeArg \u001b[38;5;241m|\u001b[39m \u001b[38;5;28;01mNone\u001b[39;00m \u001b[38;5;241m=\u001b[39m \u001b[38;5;28;01mNone\u001b[39;00m,\n\u001b[1;32m   2113\u001b[0m ):\n\u001b[1;32m   2115\u001b[0m     args \u001b[38;5;241m=\u001b[39m _convert_params(sql, params)\n\u001b[0;32m-> 2116\u001b[0m     cursor \u001b[38;5;241m=\u001b[39m \u001b[38;5;28;43mself\u001b[39;49m\u001b[38;5;241;43m.\u001b[39;49m\u001b[43mexecute\u001b[49m\u001b[43m(\u001b[49m\u001b[38;5;241;43m*\u001b[39;49m\u001b[43margs\u001b[49m\u001b[43m)\u001b[49m\n\u001b[1;32m   2117\u001b[0m     columns \u001b[38;5;241m=\u001b[39m [col_desc[\u001b[38;5;241m0\u001b[39m] \u001b[38;5;28;01mfor\u001b[39;00m col_desc \u001b[38;5;129;01min\u001b[39;00m cursor\u001b[38;5;241m.\u001b[39mdescription]\n\u001b[1;32m   2119\u001b[0m     \u001b[38;5;28;01mif\u001b[39;00m chunksize \u001b[38;5;129;01mis\u001b[39;00m \u001b[38;5;129;01mnot\u001b[39;00m \u001b[38;5;28;01mNone\u001b[39;00m:\n",
      "File \u001b[0;32m/opt/conda/lib/python3.8/site-packages/pandas/io/sql.py:2065\u001b[0m, in \u001b[0;36mSQLiteDatabase.execute\u001b[0;34m(self, *args, **kwargs)\u001b[0m\n\u001b[1;32m   2061\u001b[0m \u001b[38;5;28;01mexcept\u001b[39;00m \u001b[38;5;167;01mException\u001b[39;00m \u001b[38;5;28;01mas\u001b[39;00m inner_exc:  \u001b[38;5;66;03m# pragma: no cover\u001b[39;00m\n\u001b[1;32m   2062\u001b[0m     ex \u001b[38;5;241m=\u001b[39m DatabaseError(\n\u001b[1;32m   2063\u001b[0m         \u001b[38;5;124mf\u001b[39m\u001b[38;5;124m\"\u001b[39m\u001b[38;5;124mExecution failed on sql: \u001b[39m\u001b[38;5;132;01m{\u001b[39;00margs[\u001b[38;5;241m0\u001b[39m]\u001b[38;5;132;01m}\u001b[39;00m\u001b[38;5;130;01m\\n\u001b[39;00m\u001b[38;5;132;01m{\u001b[39;00mexc\u001b[38;5;132;01m}\u001b[39;00m\u001b[38;5;130;01m\\n\u001b[39;00m\u001b[38;5;124munable to rollback\u001b[39m\u001b[38;5;124m\"\u001b[39m\n\u001b[1;32m   2064\u001b[0m     )\n\u001b[0;32m-> 2065\u001b[0m     \u001b[38;5;28;01mraise\u001b[39;00m ex \u001b[38;5;28;01mfrom\u001b[39;00m \u001b[38;5;21;01minner_exc\u001b[39;00m\n\u001b[1;32m   2067\u001b[0m ex \u001b[38;5;241m=\u001b[39m DatabaseError(\u001b[38;5;124mf\u001b[39m\u001b[38;5;124m\"\u001b[39m\u001b[38;5;124mExecution failed on sql \u001b[39m\u001b[38;5;124m'\u001b[39m\u001b[38;5;132;01m{\u001b[39;00margs[\u001b[38;5;241m0\u001b[39m]\u001b[38;5;132;01m}\u001b[39;00m\u001b[38;5;124m'\u001b[39m\u001b[38;5;124m: \u001b[39m\u001b[38;5;132;01m{\u001b[39;00mexc\u001b[38;5;132;01m}\u001b[39;00m\u001b[38;5;124m\"\u001b[39m)\n\u001b[1;32m   2068\u001b[0m \u001b[38;5;28;01mraise\u001b[39;00m ex \u001b[38;5;28;01mfrom\u001b[39;00m \u001b[38;5;21;01mexc\u001b[39;00m\n",
      "\u001b[0;31mDatabaseError\u001b[0m: Execution failed on sql: \nCREATE EXTERNAL TABLE IF NOT EXISTS collegeaffordability317.Unemployment (\n    FIPS_Code,\n    State,\n    Area_Name,\n    Rural_Urban_Continuum_Code_2013,\n    Urban_Influence_Code_2013,\n    Metro_2013,\n    Civilian_labor_force_2000,\n    Employed_2000,\n    Unemployed_2000,\n    Unemployment_rate_2000,\n    Civilian_labor_force_2001,\n    Employed_2001,\n    Unemployed_2001,\n    Unemployment_rate_2001,\n    Civilian_labor_force_2002,\n    Employed_2002,\n    Unemployed_2002,\n    Unemployment_rate_2002,\n    Civilian_labor_force_2003,\n    Employed_2003,\n    Unemployed_2003,\n    Unemployment_rate_2003,\n    Civilian_labor_force_2004,\n    Employed_2004,\n    Unemployed_2004,\n    Unemployment_rate_2004,\n    Civilian_labor_force_2005,\n    Employed_2005,\n    Unemployed_2005,\n    Unemployment_rate_2005,\n    Civilian_labor_force_2006,\n    Employed_2006,\n    Unemployed_2006,\n    Unemployment_rate_2006,\n    Civilian_labor_force_2007,\n    Employed_2007,\n    Unemployed_2007,\n    Unemployment_rate_2007,\n    Civilian_labor_force_2008,\n    Employed_2008,\n    Unemployed_2008,\n    Unemployment_rate_2008,\n    Civilian_labor_force_2009,\n    Employed_2009,\t\n    Unemployed_2009,\n    Unemployment_rate_2009,\n    Civilian_labor_force_2010,\n    Employed_2010,\n    Unemployed_2010,\n    Unemployment_rate_2010,\n    Civilian_labor_force_2011,\n    Employed_2011,\n    Unemployed_2011,\n    Unemployment_rate_2011,\n    Civilian_labor_force_2012,\n    Employed_2012,\n    Unemployed_2012,\n    Unemployment_rate_2012,\n    Civilian_labor_force_2013,\n    Employed_2013,\n    Unemployed_2013,\n    Unemployment_rate_2013,\n    Civilian_labor_force_2014,\n    Employed_2014,\n    Unemployed_2014,\n    Unemployment_rate_2014,\n    Civilian_labor_force_2015,\n    Employed_2015,\n    Unemployed_2015,\n    Unemployment_rate_2015,\n    Civilian_labor_force_2016,\n    Employed_2016,\n    Unemployed_2016,\n    Unemployment_rate_2016,\n    Civilian_labor_force_2017,\n    Employed_2017,\n    Unemployed_2017,\n    Unemployment_rate_2017,\n    Civilian_labor_force_2018,\n    Employed_2018,\n    Unemployed_2018,\n    Unemployment_rate_2018,\n    Civilian_labor_force_2019,\n    Employed_2019,\n    Unemployed_2019,\n    Unemployment_rate_2019,\n    Civilian_labor_force_2020,\n    Employed_2020,\n    Unemployed_2020,\n    Unemployment_rate_2020,\n    Civilian_labor_force_2021,\n    Employed_2021,\n    Unemployed_2021,\n    Unemployment_rate_2021,\n    Civilian_labor_force_2022,\n    Employed_2022,\n    Unemployed_2022,\n    Unemployment_rate_2022,\n    Median_Household_Income_2021,\n    Med_HH_Income_Percent_of_State_Total_2021\n    )\n    ROW FORMAT DELIMITED\n    FIELDS TERMINATED BY ','\n    LOCATION 's3://collegeaffordability317/Unemployment//Poverty'\n\nAn error occurred (InvalidRequestException) when calling the StartQueryExecution operation: line 1:8: mismatched input 'EXTERNAL'. Expecting: 'MATERIALIZED', 'MULTI', 'OR', 'PROTECTED', 'ROLE', 'SCHEMA', 'TABLE', 'VIEW'\nunable to rollback"
     ]
    }
   ],
   "source": [
    "# Drop the table if it already exists\n",
    "table_name_4 = 'Unemployment'\n",
    "pd.read_sql(f'DROP TABLE IF EXISTS {database_name}.{table_name_4}', conn)\n",
    "\n",
    "# Define the CREATE TABLE statement with data types in lowercase\n",
    "create_table = f\"\"\"\n",
    "CREATE EXTERNAL TABLE IF NOT EXISTS {database_name}.{table_name_4} (\n",
    "    FIPS_Code,\n",
    "    State,\n",
    "    Area_Name,\n",
    "    Rural_Urban_Continuum_Code_2013,\n",
    "    Urban_Influence_Code_2013,\n",
    "    Metro_2013,\n",
    "    Civilian_labor_force_2000,\n",
    "    Employed_2000,\n",
    "    Unemployed_2000,\n",
    "    Unemployment_rate_2000,\n",
    "    Civilian_labor_force_2001,\n",
    "    Employed_2001,\n",
    "    Unemployed_2001,\n",
    "    Unemployment_rate_2001,\n",
    "    Civilian_labor_force_2002,\n",
    "    Employed_2002,\n",
    "    Unemployed_2002,\n",
    "    Unemployment_rate_2002,\n",
    "    Civilian_labor_force_2003,\n",
    "    Employed_2003,\n",
    "    Unemployed_2003,\n",
    "    Unemployment_rate_2003,\n",
    "    Civilian_labor_force_2004,\n",
    "    Employed_2004,\n",
    "    Unemployed_2004,\n",
    "    Unemployment_rate_2004,\n",
    "    Civilian_labor_force_2005,\n",
    "    Employed_2005,\n",
    "    Unemployed_2005,\n",
    "    Unemployment_rate_2005,\n",
    "    Civilian_labor_force_2006,\n",
    "    Employed_2006,\n",
    "    Unemployed_2006,\n",
    "    Unemployment_rate_2006,\n",
    "    Civilian_labor_force_2007,\n",
    "    Employed_2007,\n",
    "    Unemployed_2007,\n",
    "    Unemployment_rate_2007,\n",
    "    Civilian_labor_force_2008,\n",
    "    Employed_2008,\n",
    "    Unemployed_2008,\n",
    "    Unemployment_rate_2008,\n",
    "    Civilian_labor_force_2009,\n",
    "    Employed_2009,\t\n",
    "    Unemployed_2009,\n",
    "    Unemployment_rate_2009,\n",
    "    Civilian_labor_force_2010,\n",
    "    Employed_2010,\n",
    "    Unemployed_2010,\n",
    "    Unemployment_rate_2010,\n",
    "    Civilian_labor_force_2011,\n",
    "    Employed_2011,\n",
    "    Unemployed_2011,\n",
    "    Unemployment_rate_2011,\n",
    "    Civilian_labor_force_2012,\n",
    "    Employed_2012,\n",
    "    Unemployed_2012,\n",
    "    Unemployment_rate_2012,\n",
    "    Civilian_labor_force_2013,\n",
    "    Employed_2013,\n",
    "    Unemployed_2013,\n",
    "    Unemployment_rate_2013,\n",
    "    Civilian_labor_force_2014,\n",
    "    Employed_2014,\n",
    "    Unemployed_2014,\n",
    "    Unemployment_rate_2014,\n",
    "    Civilian_labor_force_2015,\n",
    "    Employed_2015,\n",
    "    Unemployed_2015,\n",
    "    Unemployment_rate_2015,\n",
    "    Civilian_labor_force_2016,\n",
    "    Employed_2016,\n",
    "    Unemployed_2016,\n",
    "    Unemployment_rate_2016,\n",
    "    Civilian_labor_force_2017,\n",
    "    Employed_2017,\n",
    "    Unemployed_2017,\n",
    "    Unemployment_rate_2017,\n",
    "    Civilian_labor_force_2018,\n",
    "    Employed_2018,\n",
    "    Unemployed_2018,\n",
    "    Unemployment_rate_2018,\n",
    "    Civilian_labor_force_2019,\n",
    "    Employed_2019,\n",
    "    Unemployed_2019,\n",
    "    Unemployment_rate_2019,\n",
    "    Civilian_labor_force_2020,\n",
    "    Employed_2020,\n",
    "    Unemployed_2020,\n",
    "    Unemployment_rate_2020,\n",
    "    Civilian_labor_force_2021,\n",
    "    Employed_2021,\n",
    "    Unemployed_2021,\n",
    "    Unemployment_rate_2021,\n",
    "    Civilian_labor_force_2022,\n",
    "    Employed_2022,\n",
    "    Unemployed_2022,\n",
    "    Unemployment_rate_2022,\n",
    "    Median_Household_Income_2021,\n",
    "    Med_HH_Income_Percent_of_State_Total_2021\n",
    "    )\n",
    "    ROW FORMAT DELIMITED\n",
    "    FIELDS TERMINATED BY ','\n",
    "    LOCATION '{unemployment_dir}/{table_name_3}'\n",
    "\"\"\"\n",
    "\n",
    "# Execute create table statement\n",
    "pd.read_sql(create_table, conn)\n",
    "\n",
    "pd.read_sql(f'SELECT * FROM {database_name}.{table_name_3} LIMIT 10', conn)"
   ]
  },
  {
   "cell_type": "markdown",
   "id": "a0245614-604d-4d7d-b894-91f0bf5efa91",
   "metadata": {},
   "source": [
    "# 2. Exploratory Data Analysis"
   ]
  },
  {
   "cell_type": "code",
   "execution_count": null,
   "id": "2503f8d7-993d-416f-9585-f70f4c407390",
   "metadata": {
    "tags": []
   },
   "outputs": [],
   "source": [
    "import csv\n",
    "\n",
    "df_colleges = pd.read_csv(s3_public_path_kaggle + \n",
    "                          \"college_data.csv\")\n",
    "df_colleges.shape"
   ]
  },
  {
   "cell_type": "code",
   "execution_count": null,
   "id": "5150dbeb-5039-457b-8b74-6ba02d26a11a",
   "metadata": {},
   "outputs": [],
   "source": [
    "df_gradrate = pd.read_csv(s3_public_path_tuition + \n",
    "                          \"GradRates.csv\")\n",
    "df_netprice = pd.read_csv(s3_public_path_tuition + \n",
    "                          \"NetPrice.csv\")\n",
    "df_retentionrate = pd.read_csv(s3_public_path_tuition + \n",
    "                          \"RetentionRates.csv\")\n",
    "df_stickerprice = pd.read_csv(s3_public_path_tuition + \n",
    "                          \"StickerPrice.csv\")"
   ]
  },
  {
   "cell_type": "code",
   "execution_count": null,
   "id": "3a84090e-0563-43eb-b797-27637a00d810",
   "metadata": {
    "tags": []
   },
   "outputs": [],
   "source": [
    "df_stickerprice.head()"
   ]
  },
  {
   "cell_type": "markdown",
   "id": "a8973350-f5f3-4350-9195-4885b8beb7be",
   "metadata": {
    "tags": []
   },
   "source": [
    "#### Data Types and NULLS"
   ]
  },
  {
   "cell_type": "code",
   "execution_count": null,
   "id": "de97467c-79e2-4aec-b69c-6b6c18b2302d",
   "metadata": {},
   "outputs": [],
   "source": [
    "#### WE NEED TO GET FINAL FILES NAILED DOWN AND THEN THIS CODE CAN BE RAN ON THE FINAL DATA SET\n",
    "\n",
    "##(I am not going to run it on every table and read in every table with pandas, it will be counter-intuitive)"
   ]
  },
  {
   "cell_type": "code",
   "execution_count": null,
   "id": "abcd1d0d-dcaa-46a0-97ac-bb69b3bc2ab2",
   "metadata": {},
   "outputs": [],
   "source": [
    "# get number of rows and columns\n",
    "print('Number of Rows - ', df_colleges.shape[0])\n",
    "print('Number of Columns - ', df_colleges.shape[1], '\\n')\n",
    "\n",
    "# inspect datatypes and nulls\n",
    "data_types = df_colleges.dtypes\n",
    "data_types = pd.DataFrame(data_types)\n",
    "data_types = data_types.assign(Null_Values = \n",
    "                               df_colleges.isnull().sum())\n",
    "data_types.reset_index(inplace = True)\n",
    "data_types.rename(columns={0:'Data Type',\n",
    "                          'index': 'Field',\n",
    "                          'Null_Values': \"Nulls\"})"
   ]
  },
  {
   "cell_type": "markdown",
   "id": "2cfe2259-01f1-4785-b8e3-abfc9eb9881b",
   "metadata": {},
   "source": [
    "#### Summary Statistics"
   ]
  },
  {
   "cell_type": "code",
   "execution_count": null,
   "id": "95789773-49a1-400a-8d23-0306bd91a8f9",
   "metadata": {},
   "outputs": [],
   "source": [
    "### Again, this will  be capable of running on the entire dataset, need to reduce files"
   ]
  },
  {
   "cell_type": "code",
   "execution_count": null,
   "id": "756eae5f-59eb-4606-989a-f7bf96cee038",
   "metadata": {},
   "outputs": [],
   "source": [
    "#summary statistics\n",
    "stats = pd.DataFrame(df_colleges.describe()).T\n",
    "stats"
   ]
  },
  {
   "cell_type": "markdown",
   "id": "5b2b30f3-89a8-4dbf-a930-a6ba74a4aa62",
   "metadata": {},
   "source": [
    "#### Multicollinearity Test"
   ]
  },
  {
   "cell_type": "code",
   "execution_count": null,
   "id": "2211feee-9a82-45dc-8869-1d6cc66eccd3",
   "metadata": {},
   "outputs": [],
   "source": [
    "# assign correlation function to new variable\n",
    "corr = df_colleges.corr()\n",
    "corr\n",
    "\n",
    "# Create a heatmap using seaborn\n",
    "plt.figure(figsize=(10, 8))\n",
    "sns.heatmap(corr, annot=True, cmap='coolwarm', fmt=\".2f\", linewidths=0.5, mask=corr.isnull(), cbar_kws={'label': 'Correlation'})\n",
    "plt.title('Correlation Matrix')\n",
    "plt.show()"
   ]
  },
  {
   "cell_type": "markdown",
   "id": "2092747a-c425-4aa2-b133-acebd72e4214",
   "metadata": {},
   "source": [
    "## Release SageMaker Resources"
   ]
  },
  {
   "cell_type": "code",
   "execution_count": null,
   "id": "10daa621-16b9-4a5c-abef-ff59dce0a076",
   "metadata": {},
   "outputs": [],
   "source": [
    "%%html\n",
    "\n",
    "<p><b>Shutting down your kernel for this notebook to release resources.</b></p>\n",
    "<button class=\"sm-command-button\" data-commandlinker-command=\"kernelmenu:shutdown\" style=\"display:none;\">Shutdown Kernel</button>\n",
    "        \n",
    "<script>\n",
    "try {\n",
    "    els = document.getElementsByClassName(\"sm-command-button\");\n",
    "    els[0].click();\n",
    "}\n",
    "catch(err) {\n",
    "    // NoOp\n",
    "}    \n",
    "</script>"
   ]
  },
  {
   "cell_type": "code",
   "execution_count": null,
   "id": "7f4f011e-0e5c-4c7e-b844-ca734ddb294b",
   "metadata": {},
   "outputs": [],
   "source": [
    "%%javascript\n",
    "\n",
    "try {\n",
    "    Jupyter.notebook.save_checkpoint();\n",
    "    Jupyter.notebook.session.delete();\n",
    "}\n",
    "catch(err) {\n",
    "    // NoOp\n",
    "}"
   ]
  },
  {
   "cell_type": "code",
   "execution_count": null,
   "id": "856e74d1-0032-41ca-820f-6367349221d3",
   "metadata": {},
   "outputs": [],
   "source": []
  }
 ],
 "metadata": {
  "availableInstances": [
   {
    "_defaultOrder": 0,
    "_isFastLaunch": true,
    "category": "General purpose",
    "gpuNum": 0,
    "hideHardwareSpecs": false,
    "memoryGiB": 4,
    "name": "ml.t3.medium",
    "vcpuNum": 2
   },
   {
    "_defaultOrder": 1,
    "_isFastLaunch": false,
    "category": "General purpose",
    "gpuNum": 0,
    "hideHardwareSpecs": false,
    "memoryGiB": 8,
    "name": "ml.t3.large",
    "vcpuNum": 2
   },
   {
    "_defaultOrder": 2,
    "_isFastLaunch": false,
    "category": "General purpose",
    "gpuNum": 0,
    "hideHardwareSpecs": false,
    "memoryGiB": 16,
    "name": "ml.t3.xlarge",
    "vcpuNum": 4
   },
   {
    "_defaultOrder": 3,
    "_isFastLaunch": false,
    "category": "General purpose",
    "gpuNum": 0,
    "hideHardwareSpecs": false,
    "memoryGiB": 32,
    "name": "ml.t3.2xlarge",
    "vcpuNum": 8
   },
   {
    "_defaultOrder": 4,
    "_isFastLaunch": true,
    "category": "General purpose",
    "gpuNum": 0,
    "hideHardwareSpecs": false,
    "memoryGiB": 8,
    "name": "ml.m5.large",
    "vcpuNum": 2
   },
   {
    "_defaultOrder": 5,
    "_isFastLaunch": false,
    "category": "General purpose",
    "gpuNum": 0,
    "hideHardwareSpecs": false,
    "memoryGiB": 16,
    "name": "ml.m5.xlarge",
    "vcpuNum": 4
   },
   {
    "_defaultOrder": 6,
    "_isFastLaunch": false,
    "category": "General purpose",
    "gpuNum": 0,
    "hideHardwareSpecs": false,
    "memoryGiB": 32,
    "name": "ml.m5.2xlarge",
    "vcpuNum": 8
   },
   {
    "_defaultOrder": 7,
    "_isFastLaunch": false,
    "category": "General purpose",
    "gpuNum": 0,
    "hideHardwareSpecs": false,
    "memoryGiB": 64,
    "name": "ml.m5.4xlarge",
    "vcpuNum": 16
   },
   {
    "_defaultOrder": 8,
    "_isFastLaunch": false,
    "category": "General purpose",
    "gpuNum": 0,
    "hideHardwareSpecs": false,
    "memoryGiB": 128,
    "name": "ml.m5.8xlarge",
    "vcpuNum": 32
   },
   {
    "_defaultOrder": 9,
    "_isFastLaunch": false,
    "category": "General purpose",
    "gpuNum": 0,
    "hideHardwareSpecs": false,
    "memoryGiB": 192,
    "name": "ml.m5.12xlarge",
    "vcpuNum": 48
   },
   {
    "_defaultOrder": 10,
    "_isFastLaunch": false,
    "category": "General purpose",
    "gpuNum": 0,
    "hideHardwareSpecs": false,
    "memoryGiB": 256,
    "name": "ml.m5.16xlarge",
    "vcpuNum": 64
   },
   {
    "_defaultOrder": 11,
    "_isFastLaunch": false,
    "category": "General purpose",
    "gpuNum": 0,
    "hideHardwareSpecs": false,
    "memoryGiB": 384,
    "name": "ml.m5.24xlarge",
    "vcpuNum": 96
   },
   {
    "_defaultOrder": 12,
    "_isFastLaunch": false,
    "category": "General purpose",
    "gpuNum": 0,
    "hideHardwareSpecs": false,
    "memoryGiB": 8,
    "name": "ml.m5d.large",
    "vcpuNum": 2
   },
   {
    "_defaultOrder": 13,
    "_isFastLaunch": false,
    "category": "General purpose",
    "gpuNum": 0,
    "hideHardwareSpecs": false,
    "memoryGiB": 16,
    "name": "ml.m5d.xlarge",
    "vcpuNum": 4
   },
   {
    "_defaultOrder": 14,
    "_isFastLaunch": false,
    "category": "General purpose",
    "gpuNum": 0,
    "hideHardwareSpecs": false,
    "memoryGiB": 32,
    "name": "ml.m5d.2xlarge",
    "vcpuNum": 8
   },
   {
    "_defaultOrder": 15,
    "_isFastLaunch": false,
    "category": "General purpose",
    "gpuNum": 0,
    "hideHardwareSpecs": false,
    "memoryGiB": 64,
    "name": "ml.m5d.4xlarge",
    "vcpuNum": 16
   },
   {
    "_defaultOrder": 16,
    "_isFastLaunch": false,
    "category": "General purpose",
    "gpuNum": 0,
    "hideHardwareSpecs": false,
    "memoryGiB": 128,
    "name": "ml.m5d.8xlarge",
    "vcpuNum": 32
   },
   {
    "_defaultOrder": 17,
    "_isFastLaunch": false,
    "category": "General purpose",
    "gpuNum": 0,
    "hideHardwareSpecs": false,
    "memoryGiB": 192,
    "name": "ml.m5d.12xlarge",
    "vcpuNum": 48
   },
   {
    "_defaultOrder": 18,
    "_isFastLaunch": false,
    "category": "General purpose",
    "gpuNum": 0,
    "hideHardwareSpecs": false,
    "memoryGiB": 256,
    "name": "ml.m5d.16xlarge",
    "vcpuNum": 64
   },
   {
    "_defaultOrder": 19,
    "_isFastLaunch": false,
    "category": "General purpose",
    "gpuNum": 0,
    "hideHardwareSpecs": false,
    "memoryGiB": 384,
    "name": "ml.m5d.24xlarge",
    "vcpuNum": 96
   },
   {
    "_defaultOrder": 20,
    "_isFastLaunch": false,
    "category": "General purpose",
    "gpuNum": 0,
    "hideHardwareSpecs": true,
    "memoryGiB": 0,
    "name": "ml.geospatial.interactive",
    "supportedImageNames": [
     "sagemaker-geospatial-v1-0"
    ],
    "vcpuNum": 0
   },
   {
    "_defaultOrder": 21,
    "_isFastLaunch": true,
    "category": "Compute optimized",
    "gpuNum": 0,
    "hideHardwareSpecs": false,
    "memoryGiB": 4,
    "name": "ml.c5.large",
    "vcpuNum": 2
   },
   {
    "_defaultOrder": 22,
    "_isFastLaunch": false,
    "category": "Compute optimized",
    "gpuNum": 0,
    "hideHardwareSpecs": false,
    "memoryGiB": 8,
    "name": "ml.c5.xlarge",
    "vcpuNum": 4
   },
   {
    "_defaultOrder": 23,
    "_isFastLaunch": false,
    "category": "Compute optimized",
    "gpuNum": 0,
    "hideHardwareSpecs": false,
    "memoryGiB": 16,
    "name": "ml.c5.2xlarge",
    "vcpuNum": 8
   },
   {
    "_defaultOrder": 24,
    "_isFastLaunch": false,
    "category": "Compute optimized",
    "gpuNum": 0,
    "hideHardwareSpecs": false,
    "memoryGiB": 32,
    "name": "ml.c5.4xlarge",
    "vcpuNum": 16
   },
   {
    "_defaultOrder": 25,
    "_isFastLaunch": false,
    "category": "Compute optimized",
    "gpuNum": 0,
    "hideHardwareSpecs": false,
    "memoryGiB": 72,
    "name": "ml.c5.9xlarge",
    "vcpuNum": 36
   },
   {
    "_defaultOrder": 26,
    "_isFastLaunch": false,
    "category": "Compute optimized",
    "gpuNum": 0,
    "hideHardwareSpecs": false,
    "memoryGiB": 96,
    "name": "ml.c5.12xlarge",
    "vcpuNum": 48
   },
   {
    "_defaultOrder": 27,
    "_isFastLaunch": false,
    "category": "Compute optimized",
    "gpuNum": 0,
    "hideHardwareSpecs": false,
    "memoryGiB": 144,
    "name": "ml.c5.18xlarge",
    "vcpuNum": 72
   },
   {
    "_defaultOrder": 28,
    "_isFastLaunch": false,
    "category": "Compute optimized",
    "gpuNum": 0,
    "hideHardwareSpecs": false,
    "memoryGiB": 192,
    "name": "ml.c5.24xlarge",
    "vcpuNum": 96
   },
   {
    "_defaultOrder": 29,
    "_isFastLaunch": true,
    "category": "Accelerated computing",
    "gpuNum": 1,
    "hideHardwareSpecs": false,
    "memoryGiB": 16,
    "name": "ml.g4dn.xlarge",
    "vcpuNum": 4
   },
   {
    "_defaultOrder": 30,
    "_isFastLaunch": false,
    "category": "Accelerated computing",
    "gpuNum": 1,
    "hideHardwareSpecs": false,
    "memoryGiB": 32,
    "name": "ml.g4dn.2xlarge",
    "vcpuNum": 8
   },
   {
    "_defaultOrder": 31,
    "_isFastLaunch": false,
    "category": "Accelerated computing",
    "gpuNum": 1,
    "hideHardwareSpecs": false,
    "memoryGiB": 64,
    "name": "ml.g4dn.4xlarge",
    "vcpuNum": 16
   },
   {
    "_defaultOrder": 32,
    "_isFastLaunch": false,
    "category": "Accelerated computing",
    "gpuNum": 1,
    "hideHardwareSpecs": false,
    "memoryGiB": 128,
    "name": "ml.g4dn.8xlarge",
    "vcpuNum": 32
   },
   {
    "_defaultOrder": 33,
    "_isFastLaunch": false,
    "category": "Accelerated computing",
    "gpuNum": 4,
    "hideHardwareSpecs": false,
    "memoryGiB": 192,
    "name": "ml.g4dn.12xlarge",
    "vcpuNum": 48
   },
   {
    "_defaultOrder": 34,
    "_isFastLaunch": false,
    "category": "Accelerated computing",
    "gpuNum": 1,
    "hideHardwareSpecs": false,
    "memoryGiB": 256,
    "name": "ml.g4dn.16xlarge",
    "vcpuNum": 64
   },
   {
    "_defaultOrder": 35,
    "_isFastLaunch": false,
    "category": "Accelerated computing",
    "gpuNum": 1,
    "hideHardwareSpecs": false,
    "memoryGiB": 61,
    "name": "ml.p3.2xlarge",
    "vcpuNum": 8
   },
   {
    "_defaultOrder": 36,
    "_isFastLaunch": false,
    "category": "Accelerated computing",
    "gpuNum": 4,
    "hideHardwareSpecs": false,
    "memoryGiB": 244,
    "name": "ml.p3.8xlarge",
    "vcpuNum": 32
   },
   {
    "_defaultOrder": 37,
    "_isFastLaunch": false,
    "category": "Accelerated computing",
    "gpuNum": 8,
    "hideHardwareSpecs": false,
    "memoryGiB": 488,
    "name": "ml.p3.16xlarge",
    "vcpuNum": 64
   },
   {
    "_defaultOrder": 38,
    "_isFastLaunch": false,
    "category": "Accelerated computing",
    "gpuNum": 8,
    "hideHardwareSpecs": false,
    "memoryGiB": 768,
    "name": "ml.p3dn.24xlarge",
    "vcpuNum": 96
   },
   {
    "_defaultOrder": 39,
    "_isFastLaunch": false,
    "category": "Memory Optimized",
    "gpuNum": 0,
    "hideHardwareSpecs": false,
    "memoryGiB": 16,
    "name": "ml.r5.large",
    "vcpuNum": 2
   },
   {
    "_defaultOrder": 40,
    "_isFastLaunch": false,
    "category": "Memory Optimized",
    "gpuNum": 0,
    "hideHardwareSpecs": false,
    "memoryGiB": 32,
    "name": "ml.r5.xlarge",
    "vcpuNum": 4
   },
   {
    "_defaultOrder": 41,
    "_isFastLaunch": false,
    "category": "Memory Optimized",
    "gpuNum": 0,
    "hideHardwareSpecs": false,
    "memoryGiB": 64,
    "name": "ml.r5.2xlarge",
    "vcpuNum": 8
   },
   {
    "_defaultOrder": 42,
    "_isFastLaunch": false,
    "category": "Memory Optimized",
    "gpuNum": 0,
    "hideHardwareSpecs": false,
    "memoryGiB": 128,
    "name": "ml.r5.4xlarge",
    "vcpuNum": 16
   },
   {
    "_defaultOrder": 43,
    "_isFastLaunch": false,
    "category": "Memory Optimized",
    "gpuNum": 0,
    "hideHardwareSpecs": false,
    "memoryGiB": 256,
    "name": "ml.r5.8xlarge",
    "vcpuNum": 32
   },
   {
    "_defaultOrder": 44,
    "_isFastLaunch": false,
    "category": "Memory Optimized",
    "gpuNum": 0,
    "hideHardwareSpecs": false,
    "memoryGiB": 384,
    "name": "ml.r5.12xlarge",
    "vcpuNum": 48
   },
   {
    "_defaultOrder": 45,
    "_isFastLaunch": false,
    "category": "Memory Optimized",
    "gpuNum": 0,
    "hideHardwareSpecs": false,
    "memoryGiB": 512,
    "name": "ml.r5.16xlarge",
    "vcpuNum": 64
   },
   {
    "_defaultOrder": 46,
    "_isFastLaunch": false,
    "category": "Memory Optimized",
    "gpuNum": 0,
    "hideHardwareSpecs": false,
    "memoryGiB": 768,
    "name": "ml.r5.24xlarge",
    "vcpuNum": 96
   },
   {
    "_defaultOrder": 47,
    "_isFastLaunch": false,
    "category": "Accelerated computing",
    "gpuNum": 1,
    "hideHardwareSpecs": false,
    "memoryGiB": 16,
    "name": "ml.g5.xlarge",
    "vcpuNum": 4
   },
   {
    "_defaultOrder": 48,
    "_isFastLaunch": false,
    "category": "Accelerated computing",
    "gpuNum": 1,
    "hideHardwareSpecs": false,
    "memoryGiB": 32,
    "name": "ml.g5.2xlarge",
    "vcpuNum": 8
   },
   {
    "_defaultOrder": 49,
    "_isFastLaunch": false,
    "category": "Accelerated computing",
    "gpuNum": 1,
    "hideHardwareSpecs": false,
    "memoryGiB": 64,
    "name": "ml.g5.4xlarge",
    "vcpuNum": 16
   },
   {
    "_defaultOrder": 50,
    "_isFastLaunch": false,
    "category": "Accelerated computing",
    "gpuNum": 1,
    "hideHardwareSpecs": false,
    "memoryGiB": 128,
    "name": "ml.g5.8xlarge",
    "vcpuNum": 32
   },
   {
    "_defaultOrder": 51,
    "_isFastLaunch": false,
    "category": "Accelerated computing",
    "gpuNum": 1,
    "hideHardwareSpecs": false,
    "memoryGiB": 256,
    "name": "ml.g5.16xlarge",
    "vcpuNum": 64
   },
   {
    "_defaultOrder": 52,
    "_isFastLaunch": false,
    "category": "Accelerated computing",
    "gpuNum": 4,
    "hideHardwareSpecs": false,
    "memoryGiB": 192,
    "name": "ml.g5.12xlarge",
    "vcpuNum": 48
   },
   {
    "_defaultOrder": 53,
    "_isFastLaunch": false,
    "category": "Accelerated computing",
    "gpuNum": 4,
    "hideHardwareSpecs": false,
    "memoryGiB": 384,
    "name": "ml.g5.24xlarge",
    "vcpuNum": 96
   },
   {
    "_defaultOrder": 54,
    "_isFastLaunch": false,
    "category": "Accelerated computing",
    "gpuNum": 8,
    "hideHardwareSpecs": false,
    "memoryGiB": 768,
    "name": "ml.g5.48xlarge",
    "vcpuNum": 192
   },
   {
    "_defaultOrder": 55,
    "_isFastLaunch": false,
    "category": "Accelerated computing",
    "gpuNum": 8,
    "hideHardwareSpecs": false,
    "memoryGiB": 1152,
    "name": "ml.p4d.24xlarge",
    "vcpuNum": 96
   },
   {
    "_defaultOrder": 56,
    "_isFastLaunch": false,
    "category": "Accelerated computing",
    "gpuNum": 8,
    "hideHardwareSpecs": false,
    "memoryGiB": 1152,
    "name": "ml.p4de.24xlarge",
    "vcpuNum": 96
   },
   {
    "_defaultOrder": 57,
    "_isFastLaunch": false,
    "category": "Accelerated computing",
    "gpuNum": 0,
    "hideHardwareSpecs": false,
    "memoryGiB": 32,
    "name": "ml.trn1.2xlarge",
    "vcpuNum": 8
   },
   {
    "_defaultOrder": 58,
    "_isFastLaunch": false,
    "category": "Accelerated computing",
    "gpuNum": 0,
    "hideHardwareSpecs": false,
    "memoryGiB": 512,
    "name": "ml.trn1.32xlarge",
    "vcpuNum": 128
   },
   {
    "_defaultOrder": 59,
    "_isFastLaunch": false,
    "category": "Accelerated computing",
    "gpuNum": 0,
    "hideHardwareSpecs": false,
    "memoryGiB": 512,
    "name": "ml.trn1n.32xlarge",
    "vcpuNum": 128
   }
  ],
  "instance_type": "ml.t3.medium",
  "kernelspec": {
   "display_name": "Python 3 (Data Science 2.0)",
   "language": "python",
   "name": "python3__SAGEMAKER_INTERNAL__arn:aws:sagemaker:us-east-1:081325390199:image/sagemaker-data-science-38"
  },
  "language_info": {
   "codemirror_mode": {
    "name": "ipython",
    "version": 3
   },
   "file_extension": ".py",
   "mimetype": "text/x-python",
   "name": "python",
   "nbconvert_exporter": "python",
   "pygments_lexer": "ipython3",
   "version": "3.8.13"
  }
 },
 "nbformat": 4,
 "nbformat_minor": 5
}
