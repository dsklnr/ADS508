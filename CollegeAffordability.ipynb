{
 "cells": [
  {
   "cell_type": "markdown",
   "id": "7769cb37-a023-47a7-ae63-775b676e439e",
   "metadata": {
    "tags": []
   },
   "source": [
    "# 1. Prepare Datasets"
   ]
  },
  {
   "cell_type": "markdown",
   "id": "46a77cc7-2a66-4e55-8c79-c66c6550f83f",
   "metadata": {},
   "source": [
    "## Import the S3 data into SageMaker"
   ]
  },
  {
   "cell_type": "code",
   "execution_count": 2,
   "id": "e68ab516-5832-4844-956b-3bced4c1d27b",
   "metadata": {
    "tags": []
   },
   "outputs": [
    {
     "name": "stdout",
     "output_type": "stream",
     "text": [
      "sagemaker.config INFO - Not applying SDK defaults from location: /etc/xdg/sagemaker/config.yaml\n",
      "sagemaker.config INFO - Not applying SDK defaults from location: /root/.config/sagemaker/config.yaml\n",
      "sagemaker.config INFO - Not applying SDK defaults from location: /etc/xdg/sagemaker/config.yaml\n",
      "sagemaker.config INFO - Not applying SDK defaults from location: /root/.config/sagemaker/config.yaml\n",
      "sagemaker.config INFO - Not applying SDK defaults from location: /etc/xdg/sagemaker/config.yaml\n",
      "sagemaker.config INFO - Not applying SDK defaults from location: /root/.config/sagemaker/config.yaml\n"
     ]
    }
   ],
   "source": [
    "import boto3\n",
    "import sagemaker\n",
    "import pandas as pd\n",
    "\n",
    "sess = sagemaker.Session()\n",
    "bucket = sess.default_bucket()\n",
    "role = sagemaker.get_execution_role()\n",
    "region = boto3.Session().region_name\n",
    "account_id = boto3.client(\"sts\").get_caller_identity().get(\"Account\")\n",
    "\n",
    "sm = boto3.Session().client(service_name=\"sagemaker\", region_name=region)"
   ]
  },
  {
   "cell_type": "markdown",
   "id": "fba21876-6bbf-484a-8fc2-0d5610329e5e",
   "metadata": {},
   "source": [
    "## Store S3 locations"
   ]
  },
  {
   "cell_type": "code",
   "execution_count": 3,
   "id": "486a66ce-f9c9-4e8c-ae5b-b60370df6ba7",
   "metadata": {
    "tags": []
   },
   "outputs": [],
   "source": [
    "s3_public_path_kaggle = \"s3://collegeaffordability317/Kaggle/\"\n",
    "s3_public_path_tuition = \"s3://collegeaffordability317/TuitionTracker/\"\n",
    "s3_public_path_usda = \"s3://collegeaffordability317/USDA/\"\n",
    "s3_public_path_usde = \"s3://collegeaffordability317/USDE/\""
   ]
  },
  {
   "cell_type": "code",
   "execution_count": 4,
   "id": "88bad887-1b3e-4bdc-9be4-da573b7e543f",
   "metadata": {
    "tags": []
   },
   "outputs": [
    {
     "name": "stdout",
     "output_type": "stream",
     "text": [
      "Stored 's3_public_path_kaggle' (str)\n",
      "Stored 's3_public_path_tuition' (str)\n",
      "Stored 's3_public_path_usda' (str)\n",
      "Stored 's3_public_path_usde' (str)\n"
     ]
    }
   ],
   "source": [
    "%store s3_public_path_kaggle\n",
    "%store s3_public_path_tuition\n",
    "%store s3_public_path_usda\n",
    "%store s3_public_path_usde"
   ]
  },
  {
   "cell_type": "markdown",
   "id": "6f18c5c3-9d9b-4f02-a080-348ef21ce8c6",
   "metadata": {},
   "source": [
    "## Show all the data files for the project"
   ]
  },
  {
   "cell_type": "code",
   "execution_count": 5,
   "id": "9b577fa8-19cb-48db-8e96-1285679afe0c",
   "metadata": {
    "tags": []
   },
   "outputs": [
    {
     "name": "stdout",
     "output_type": "stream",
     "text": [
      "2024-03-17 16:07:03   15143141 college_data.csv\n"
     ]
    }
   ],
   "source": [
    "!aws s3 ls $s3_public_path_kaggle"
   ]
  },
  {
   "cell_type": "code",
   "execution_count": 6,
   "id": "5d2a342e-f01a-4822-9c98-08047819fd78",
   "metadata": {
    "tags": []
   },
   "outputs": [
    {
     "name": "stdout",
     "output_type": "stream",
     "text": [
      "2024-03-17 16:07:00      21527 DataDictionary.xlsx\n",
      "2024-03-17 16:07:00     838246 GradRates.csv\n",
      "2024-03-17 16:07:01    1319314 NetPrice.csv\n",
      "2024-03-17 16:07:01    1382164 RetentionRates.csv\n",
      "2024-03-17 16:07:02     653000 StickerPrice.csv\n"
     ]
    }
   ],
   "source": [
    "!aws s3 ls $s3_public_path_tuition"
   ]
  },
  {
   "cell_type": "code",
   "execution_count": 7,
   "id": "d99f7a83-ad65-46bc-be37-318954b5573a",
   "metadata": {
    "tags": []
   },
   "outputs": [
    {
     "name": "stdout",
     "output_type": "stream",
     "text": [
      "2024-03-17 16:06:57    1610608 Education.xlsx\n",
      "2024-03-17 16:06:58    1047684 PopulationEstimates.xlsx\n",
      "2024-03-17 16:06:58     604165 PovertyEstimates.xlsx\n",
      "2024-03-17 16:06:59    2762055 Unemployment.xlsx\n"
     ]
    }
   ],
   "source": [
    "!aws s3 ls $s3_public_path_usda"
   ]
  },
  {
   "cell_type": "code",
   "execution_count": 8,
   "id": "6e917c6f-ee0f-4e56-870b-1d77baf98a8c",
   "metadata": {
    "tags": []
   },
   "outputs": [
    {
     "name": "stdout",
     "output_type": "stream",
     "text": [
      "2024-03-17 16:06:52      59904 FedStudentAidPortfolioByAge.xls\n",
      "2024-03-17 16:06:53      68096 FedStudentAidPortfolioByDebtSize.xls\n",
      "2024-03-17 16:06:53      62976 FedStudentAidPortfolioByLoanType.xls\n",
      "2024-03-17 16:06:53      50176 FedStudentAidPortfolioByLocation.xls\n",
      "2024-03-17 16:06:54      60928 FedStudentAidPortfolioBySchoolType.xls\n",
      "2024-03-17 16:06:54      61952 FedStudentAidPortfolioSummary.xls\n",
      "2024-03-17 16:06:55      52224 PortfolioByAgeAndDebtSize.xls\n",
      "2024-03-17 16:06:55      91648 PortfolioByDelinquencyStatus.xls\n",
      "2024-03-17 16:06:56      57856 PortfolioByLocationAndAge.xls\n",
      "2024-03-17 16:06:56      58368 PortfolioByLocationAndDebtSize.xls\n",
      "2024-03-17 16:06:56     147456 PortfolioByRepaymentPlan.xls\n"
     ]
    }
   ],
   "source": [
    "!aws s3 ls $s3_public_path_usde"
   ]
  },
  {
   "cell_type": "markdown",
   "id": "7d49219c-49d3-4534-9e80-443cf2dc178c",
   "metadata": {},
   "source": [
    "# 2. Athena DB"
   ]
  },
  {
   "cell_type": "code",
   "execution_count": 11,
   "id": "54215eeb-8505-4ce5-85cc-0bf64f15a226",
   "metadata": {
    "tags": []
   },
   "outputs": [],
   "source": [
    "from pyathena import connect\n",
    "\n",
    "# Set S3 staging directory -- this is a temporary directory used for Athena queries\n",
    "s3_staging_dir = \"s3://{0}/athena/staging\".format(bucket)"
   ]
  },
  {
   "cell_type": "code",
   "execution_count": 12,
   "id": "81da011c-ea83-4deb-93c4-882a1e3e1ddb",
   "metadata": {
    "tags": []
   },
   "outputs": [],
   "source": [
    "# Set Athena parameters\n",
    "database_name = 'collegeaffordability317'\n",
    "table_name = 'college_data'"
   ]
  },
  {
   "cell_type": "code",
   "execution_count": 13,
   "id": "b47df160-01c8-471e-9d83-74484844c259",
   "metadata": {
    "tags": []
   },
   "outputs": [],
   "source": [
    "conn = connect(region_name=region, s3_staging_dir=s3_staging_dir)"
   ]
  },
  {
   "cell_type": "code",
   "execution_count": 14,
   "id": "7a70b5b3-2ff6-4f39-b1a7-98d62e80dae3",
   "metadata": {
    "tags": []
   },
   "outputs": [
    {
     "data": {
      "text/html": [
       "<div>\n",
       "<style scoped>\n",
       "    .dataframe tbody tr th:only-of-type {\n",
       "        vertical-align: middle;\n",
       "    }\n",
       "\n",
       "    .dataframe tbody tr th {\n",
       "        vertical-align: top;\n",
       "    }\n",
       "\n",
       "    .dataframe thead th {\n",
       "        text-align: right;\n",
       "    }\n",
       "</style>\n",
       "<table border=\"1\" class=\"dataframe\">\n",
       "  <thead>\n",
       "    <tr style=\"text-align: right;\">\n",
       "      <th></th>\n",
       "    </tr>\n",
       "  </thead>\n",
       "  <tbody>\n",
       "  </tbody>\n",
       "</table>\n",
       "</div>"
      ],
      "text/plain": [
       "Empty DataFrame\n",
       "Columns: []\n",
       "Index: []"
      ]
     },
     "execution_count": 14,
     "metadata": {},
     "output_type": "execute_result"
    }
   ],
   "source": [
    "statement = \"CREATE DATABASE IF NOT EXISTS {}\".format(database_name)\n",
    "\n",
    "pd.read_sql(statement, conn)"
   ]
  },
  {
   "cell_type": "code",
   "execution_count": 15,
   "id": "9d66cb59-2f4a-4979-a4dc-c11e7d54dd75",
   "metadata": {
    "tags": []
   },
   "outputs": [
    {
     "data": {
      "text/html": [
       "<div>\n",
       "<style scoped>\n",
       "    .dataframe tbody tr th:only-of-type {\n",
       "        vertical-align: middle;\n",
       "    }\n",
       "\n",
       "    .dataframe tbody tr th {\n",
       "        vertical-align: top;\n",
       "    }\n",
       "\n",
       "    .dataframe thead th {\n",
       "        text-align: right;\n",
       "    }\n",
       "</style>\n",
       "<table border=\"1\" class=\"dataframe\">\n",
       "  <thead>\n",
       "    <tr style=\"text-align: right;\">\n",
       "      <th></th>\n",
       "      <th>database_name</th>\n",
       "    </tr>\n",
       "  </thead>\n",
       "  <tbody>\n",
       "    <tr>\n",
       "      <th>0</th>\n",
       "      <td>college_afford</td>\n",
       "    </tr>\n",
       "    <tr>\n",
       "      <th>1</th>\n",
       "      <td>collegeaff</td>\n",
       "    </tr>\n",
       "    <tr>\n",
       "      <th>2</th>\n",
       "      <td>collegeaffordability317</td>\n",
       "    </tr>\n",
       "    <tr>\n",
       "      <th>3</th>\n",
       "      <td>default</td>\n",
       "    </tr>\n",
       "    <tr>\n",
       "      <th>4</th>\n",
       "      <td>dsoaws</td>\n",
       "    </tr>\n",
       "  </tbody>\n",
       "</table>\n",
       "</div>"
      ],
      "text/plain": [
       "             database_name\n",
       "0           college_afford\n",
       "1               collegeaff\n",
       "2  collegeaffordability317\n",
       "3                  default\n",
       "4                   dsoaws"
      ]
     },
     "execution_count": 15,
     "metadata": {},
     "output_type": "execute_result"
    }
   ],
   "source": [
    "statement = \"SHOW DATABASES\"\n",
    "\n",
    "df_show = pd.read_sql(statement, conn)\n",
    "df_show.head(10)"
   ]
  },
  {
   "cell_type": "code",
   "execution_count": 16,
   "id": "c74e03cf-7248-464e-b850-34bd2d756a4d",
   "metadata": {
    "tags": []
   },
   "outputs": [],
   "source": [
    "# Drop the table if it already exists\n",
    "pd.read_sql(f'DROP TABLE IF EXISTS {database_name}.{table_name}', conn)\n",
    "\n",
    "# Define the CREATE TABLE statement with data types in lowercase\n",
    "statement = f\"\"\"\n",
    "CREATE EXTERNAL TABLE IF NOT EXISTS {database_name}.{table_name} (\n",
    "    unitid int,\n",
    "    instnm string,\n",
    "    city string,\n",
    "    stabbr string,\n",
    "    zip string,\n",
    "    region string,\n",
    "    preddeg string,\n",
    "    locale string,\n",
    "    latitude float,\n",
    "    longitude float,\n",
    "    ccbasic string,\n",
    "    ccugprof string,\n",
    "    ccsizset string,\n",
    "    adm_rate_all float,\n",
    "    pptug_ef float,\n",
    "    sat_avg_all float,\n",
    "    costt4_a float,\n",
    "    control string,\n",
    "    tuitionfee_in float,\n",
    "    tuitionfee_out float,\n",
    "    median_hh_inc float,\n",
    "    mn_earn_wne_indep0_p10 float,\n",
    "    mn_earn_wne_indep1_p10 float,\n",
    "    ugds_white float,\n",
    "    ugds_black float,\n",
    "    ugds_hisp float,\n",
    "    ugds_asian float,\n",
    "    ugds_aian float,\n",
    "    ugds_nhpi float,\n",
    "    ugds_2mor float,\n",
    "    ugds_nra float,\n",
    "    ugds_unkn float,\n",
    "    year int\n",
    ")\n",
    "ROW FORMAT DELIMITED\n",
    "FIELDS TERMINATED BY ','\n",
    "LOCATION 's3://collegeaffordability317/Kaggle/'\n",
    "\"\"\""
   ]
  },
  {
   "cell_type": "code",
   "execution_count": 17,
   "id": "a5ba616b-b5b9-4769-9cbc-1545088f27dd",
   "metadata": {
    "tags": []
   },
   "outputs": [],
   "source": [
    "# Execute the CREATE TABLE statement\n",
    "table_1 = pd.read_sql(statement, conn)"
   ]
  },
  {
   "cell_type": "code",
   "execution_count": 18,
   "id": "e97a80ac-257b-4ed7-a114-1801ed3d2212",
   "metadata": {
    "tags": []
   },
   "outputs": [],
   "source": [
    "# Drop the table if it already exists\n",
    "pd.read_sql(f'DROP TABLE IF EXISTS {database_name}.{table_name}', conn)\n",
    "\n",
    "# Define the CREATE TABLE statement with data types in lowercase\n",
    "statement = f\"\"\"\n",
    "CREATE EXTERNAL TABLE IF NOT EXISTS {database_name}.{table_name} (\n",
    "    unitid int,\n",
    "    inst_nm string,\n",
    "    nonres_alien_4yr int,\n",
    "    unkown_ethn_4yr int,\n",
    "    grand_total_4yr int,\n",
    "    hispanic_4yr int,\n",
    "    amindian_alaskanative_4yr int,\n",
    "    asian_4yr int,\n",
    "    black_african_4yr int,\n",
    "    native_hawaiian_4yr int,\n",
    "    unknown_ethn_2yr int, \n",
    "    grand_total_2_yr int,\n",
    "    hispanic_2yr int,\n",
    "    amindian_alaskanative_2yr int,\n",
    "    asian_2yr int,\n",
    "    black_african_2yr int,\n",
    "    native_hawaiian_2yr int,\n",
    "    white_2yr int,\n",
    "    two_or_more_race_2yr int,\n",
    "    unnamed float\n",
    ")\n",
    "ROW FORMAT DELIMITED\n",
    "FIELDS TERMINATED BY ','\n",
    "LOCATION 's3://collegeaffordability317/TuitionTracker/'\n",
    "\"\"\""
   ]
  },
  {
   "cell_type": "code",
   "execution_count": 19,
   "id": "6238d16c-c995-4bdb-adfa-760d0be03ca5",
   "metadata": {
    "tags": []
   },
   "outputs": [],
   "source": [
    "# Execute the CREATE TABLE statement\n",
    "table_2 = pd.read_sql(statement, conn)"
   ]
  },
  {
   "cell_type": "markdown",
   "id": "a0245614-604d-4d7d-b894-91f0bf5efa91",
   "metadata": {},
   "source": [
    "# 2. Exploratory Data Analysis"
   ]
  },
  {
   "cell_type": "code",
   "execution_count": 20,
   "id": "2503f8d7-993d-416f-9585-f70f4c407390",
   "metadata": {
    "tags": []
   },
   "outputs": [
    {
     "name": "stderr",
     "output_type": "stream",
     "text": [
      "/opt/conda/lib/python3.8/site-packages/IPython/core/interactiveshell.py:3508: DtypeWarning: Columns (10,11,12) have mixed types.Specify dtype option on import or set low_memory=False.\n",
      "  exec(code_obj, self.user_global_ns, self.user_ns)\n"
     ]
    },
    {
     "data": {
      "text/plain": [
       "(58123, 33)"
      ]
     },
     "execution_count": 20,
     "metadata": {},
     "output_type": "execute_result"
    }
   ],
   "source": [
    "import csv\n",
    "\n",
    "df_colleges = pd.read_csv(s3_public_path_kaggle + \n",
    "                          \"college_data.csv\")\n",
    "df_colleges.shape"
   ]
  },
  {
   "cell_type": "code",
   "execution_count": 21,
   "id": "5150dbeb-5039-457b-8b74-6ba02d26a11a",
   "metadata": {},
   "outputs": [],
   "source": [
    "df_gradrate = pd.read_csv(s3_public_path_tuition + \n",
    "                          \"GradRates.csv\")\n",
    "df_netprice = pd.read_csv(s3_public_path_tuition + \n",
    "                          \"NetPrice.csv\")\n",
    "df_retentionrate = pd.read_csv(s3_public_path_tuition + \n",
    "                          \"RetentionRates.csv\")\n",
    "df_stickerprice = pd.read_csv(s3_public_path_tuition + \n",
    "                          \"StickerPrice.csv\")"
   ]
  },
  {
   "cell_type": "code",
   "execution_count": 22,
   "id": "3a84090e-0563-43eb-b797-27637a00d810",
   "metadata": {
    "tags": []
   },
   "outputs": [
    {
     "data": {
      "text/html": [
       "<div>\n",
       "<style scoped>\n",
       "    .dataframe tbody tr th:only-of-type {\n",
       "        vertical-align: middle;\n",
       "    }\n",
       "\n",
       "    .dataframe tbody tr th {\n",
       "        vertical-align: top;\n",
       "    }\n",
       "\n",
       "    .dataframe thead th {\n",
       "        text-align: right;\n",
       "    }\n",
       "</style>\n",
       "<table border=\"1\" class=\"dataframe\">\n",
       "  <thead>\n",
       "    <tr style=\"text-align: right;\">\n",
       "      <th></th>\n",
       "      <th>UnitID</th>\n",
       "      <th>Institution Name</th>\n",
       "      <th>Sector of institution (HD2021)</th>\n",
       "      <th>Total price for in-state students living on campus 2021-22 (DRVIC2021)</th>\n",
       "      <th>Total price for in-state students living off campus (not with family)  2021-22 (DRVIC2021)</th>\n",
       "      <th>Total price for in-state students living off campus (with family)  2021-22 (DRVIC2021)</th>\n",
       "      <th>Total price for in-state students living on campus 2020-21 (DRVIC2020)</th>\n",
       "      <th>Total price for in-state students living off campus (not with family)  2020-21 (DRVIC2020)</th>\n",
       "      <th>Total price for in-state students living off campus (with family)  2020-21 (DRVIC2020)</th>\n",
       "      <th>Total price for in-state students living on campus 2019-20 (DRVIC2019)</th>\n",
       "      <th>...</th>\n",
       "      <th>Total price for in-state students living off campus (with family)  2014-15 (DRVIC2014)</th>\n",
       "      <th>Total price for in-state students living on campus 2013-14 (DRVIC2013_RV)</th>\n",
       "      <th>Total price for in-state students living off campus (not with family)  2013-14 (DRVIC2013_RV)</th>\n",
       "      <th>Total price for in-state students living off campus (with family)  2013-14 (DRVIC2013_RV)</th>\n",
       "      <th>Total price for in-state students living on campus 2012-13 (DRVIC2012_RV)</th>\n",
       "      <th>Total price for in-state students living off campus (not with family)  2012-13 (DRVIC2012_RV)</th>\n",
       "      <th>Total price for in-state students living off campus (with family)  2012-13 (DRVIC2012_RV)</th>\n",
       "      <th>Total price for in-state students living on campus 2011-12 (DRVIC2011_RV)</th>\n",
       "      <th>Total price for in-state students living off campus (not with family)  2011-12 (DRVIC2011_RV)</th>\n",
       "      <th>Total price for in-state students living off campus (with family)  2011-12 (DRVIC2011_RV)</th>\n",
       "    </tr>\n",
       "  </thead>\n",
       "  <tbody>\n",
       "    <tr>\n",
       "      <th>0</th>\n",
       "      <td>180203</td>\n",
       "      <td>Aaniiih Nakoda College</td>\n",
       "      <td>1</td>\n",
       "      <td>NaN</td>\n",
       "      <td>17030.0</td>\n",
       "      <td>8510.0</td>\n",
       "      <td>NaN</td>\n",
       "      <td>17030.0</td>\n",
       "      <td>8510.0</td>\n",
       "      <td>NaN</td>\n",
       "      <td>...</td>\n",
       "      <td>8510.0</td>\n",
       "      <td>NaN</td>\n",
       "      <td>17030.0</td>\n",
       "      <td>8510.0</td>\n",
       "      <td>NaN</td>\n",
       "      <td>17030.0</td>\n",
       "      <td>8510.0</td>\n",
       "      <td>NaN</td>\n",
       "      <td>17030.0</td>\n",
       "      <td>8510.0</td>\n",
       "    </tr>\n",
       "    <tr>\n",
       "      <th>1</th>\n",
       "      <td>222178</td>\n",
       "      <td>Abilene Christian University</td>\n",
       "      <td>2</td>\n",
       "      <td>55500.0</td>\n",
       "      <td>55500.0</td>\n",
       "      <td>43872.0</td>\n",
       "      <td>53672.0</td>\n",
       "      <td>53672.0</td>\n",
       "      <td>42322.0</td>\n",
       "      <td>51887.0</td>\n",
       "      <td>...</td>\n",
       "      <td>34100.0</td>\n",
       "      <td>41800.0</td>\n",
       "      <td>41800.0</td>\n",
       "      <td>33000.0</td>\n",
       "      <td>39900.0</td>\n",
       "      <td>39900.0</td>\n",
       "      <td>31250.0</td>\n",
       "      <td>38250.0</td>\n",
       "      <td>NaN</td>\n",
       "      <td>NaN</td>\n",
       "    </tr>\n",
       "    <tr>\n",
       "      <th>2</th>\n",
       "      <td>497037</td>\n",
       "      <td>Abilene Christian University-Undergraduate Online</td>\n",
       "      <td>2</td>\n",
       "      <td>NaN</td>\n",
       "      <td>30670.0</td>\n",
       "      <td>19042.0</td>\n",
       "      <td>NaN</td>\n",
       "      <td>NaN</td>\n",
       "      <td>NaN</td>\n",
       "      <td>NaN</td>\n",
       "      <td>...</td>\n",
       "      <td>NaN</td>\n",
       "      <td>NaN</td>\n",
       "      <td>NaN</td>\n",
       "      <td>NaN</td>\n",
       "      <td>NaN</td>\n",
       "      <td>NaN</td>\n",
       "      <td>NaN</td>\n",
       "      <td>NaN</td>\n",
       "      <td>NaN</td>\n",
       "      <td>NaN</td>\n",
       "    </tr>\n",
       "    <tr>\n",
       "      <th>3</th>\n",
       "      <td>138558</td>\n",
       "      <td>Abraham Baldwin Agricultural College</td>\n",
       "      <td>1</td>\n",
       "      <td>15727.0</td>\n",
       "      <td>13965.0</td>\n",
       "      <td>7765.0</td>\n",
       "      <td>15575.0</td>\n",
       "      <td>13865.0</td>\n",
       "      <td>7665.0</td>\n",
       "      <td>15479.0</td>\n",
       "      <td>...</td>\n",
       "      <td>6894.0</td>\n",
       "      <td>17503.0</td>\n",
       "      <td>13188.0</td>\n",
       "      <td>7578.0</td>\n",
       "      <td>16550.0</td>\n",
       "      <td>12619.0</td>\n",
       "      <td>7009.0</td>\n",
       "      <td>12347.0</td>\n",
       "      <td>NaN</td>\n",
       "      <td>NaN</td>\n",
       "    </tr>\n",
       "    <tr>\n",
       "      <th>4</th>\n",
       "      <td>488031</td>\n",
       "      <td>Abraham Lincoln University</td>\n",
       "      <td>3</td>\n",
       "      <td>NaN</td>\n",
       "      <td>27133.0</td>\n",
       "      <td>11365.0</td>\n",
       "      <td>NaN</td>\n",
       "      <td>25576.0</td>\n",
       "      <td>11176.0</td>\n",
       "      <td>NaN</td>\n",
       "      <td>...</td>\n",
       "      <td>NaN</td>\n",
       "      <td>NaN</td>\n",
       "      <td>NaN</td>\n",
       "      <td>NaN</td>\n",
       "      <td>NaN</td>\n",
       "      <td>NaN</td>\n",
       "      <td>NaN</td>\n",
       "      <td>NaN</td>\n",
       "      <td>NaN</td>\n",
       "      <td>NaN</td>\n",
       "    </tr>\n",
       "  </tbody>\n",
       "</table>\n",
       "<p>5 rows × 36 columns</p>\n",
       "</div>"
      ],
      "text/plain": [
       "   UnitID                                   Institution Name  \\\n",
       "0  180203                             Aaniiih Nakoda College   \n",
       "1  222178                       Abilene Christian University   \n",
       "2  497037  Abilene Christian University-Undergraduate Online   \n",
       "3  138558               Abraham Baldwin Agricultural College   \n",
       "4  488031                         Abraham Lincoln University   \n",
       "\n",
       "   Sector of institution (HD2021)  \\\n",
       "0                               1   \n",
       "1                               2   \n",
       "2                               2   \n",
       "3                               1   \n",
       "4                               3   \n",
       "\n",
       "   Total price for in-state students living on campus 2021-22 (DRVIC2021)  \\\n",
       "0                                                NaN                        \n",
       "1                                            55500.0                        \n",
       "2                                                NaN                        \n",
       "3                                            15727.0                        \n",
       "4                                                NaN                        \n",
       "\n",
       "   Total price for in-state students living off campus (not with family)  2021-22 (DRVIC2021)  \\\n",
       "0                                            17030.0                                            \n",
       "1                                            55500.0                                            \n",
       "2                                            30670.0                                            \n",
       "3                                            13965.0                                            \n",
       "4                                            27133.0                                            \n",
       "\n",
       "   Total price for in-state students living off campus (with family)  2021-22 (DRVIC2021)  \\\n",
       "0                                             8510.0                                        \n",
       "1                                            43872.0                                        \n",
       "2                                            19042.0                                        \n",
       "3                                             7765.0                                        \n",
       "4                                            11365.0                                        \n",
       "\n",
       "   Total price for in-state students living on campus 2020-21 (DRVIC2020)  \\\n",
       "0                                                NaN                        \n",
       "1                                            53672.0                        \n",
       "2                                                NaN                        \n",
       "3                                            15575.0                        \n",
       "4                                                NaN                        \n",
       "\n",
       "   Total price for in-state students living off campus (not with family)  2020-21 (DRVIC2020)  \\\n",
       "0                                            17030.0                                            \n",
       "1                                            53672.0                                            \n",
       "2                                                NaN                                            \n",
       "3                                            13865.0                                            \n",
       "4                                            25576.0                                            \n",
       "\n",
       "   Total price for in-state students living off campus (with family)  2020-21 (DRVIC2020)  \\\n",
       "0                                             8510.0                                        \n",
       "1                                            42322.0                                        \n",
       "2                                                NaN                                        \n",
       "3                                             7665.0                                        \n",
       "4                                            11176.0                                        \n",
       "\n",
       "   Total price for in-state students living on campus 2019-20 (DRVIC2019)  \\\n",
       "0                                                NaN                        \n",
       "1                                            51887.0                        \n",
       "2                                                NaN                        \n",
       "3                                            15479.0                        \n",
       "4                                                NaN                        \n",
       "\n",
       "   ...  \\\n",
       "0  ...   \n",
       "1  ...   \n",
       "2  ...   \n",
       "3  ...   \n",
       "4  ...   \n",
       "\n",
       "   Total price for in-state students living off campus (with family)  2014-15 (DRVIC2014)  \\\n",
       "0                                             8510.0                                        \n",
       "1                                            34100.0                                        \n",
       "2                                                NaN                                        \n",
       "3                                             6894.0                                        \n",
       "4                                                NaN                                        \n",
       "\n",
       "   Total price for in-state students living on campus 2013-14 (DRVIC2013_RV)  \\\n",
       "0                                                NaN                           \n",
       "1                                            41800.0                           \n",
       "2                                                NaN                           \n",
       "3                                            17503.0                           \n",
       "4                                                NaN                           \n",
       "\n",
       "   Total price for in-state students living off campus (not with family)  2013-14 (DRVIC2013_RV)  \\\n",
       "0                                            17030.0                                               \n",
       "1                                            41800.0                                               \n",
       "2                                                NaN                                               \n",
       "3                                            13188.0                                               \n",
       "4                                                NaN                                               \n",
       "\n",
       "   Total price for in-state students living off campus (with family)  2013-14 (DRVIC2013_RV)  \\\n",
       "0                                             8510.0                                           \n",
       "1                                            33000.0                                           \n",
       "2                                                NaN                                           \n",
       "3                                             7578.0                                           \n",
       "4                                                NaN                                           \n",
       "\n",
       "   Total price for in-state students living on campus 2012-13 (DRVIC2012_RV)  \\\n",
       "0                                                NaN                           \n",
       "1                                            39900.0                           \n",
       "2                                                NaN                           \n",
       "3                                            16550.0                           \n",
       "4                                                NaN                           \n",
       "\n",
       "   Total price for in-state students living off campus (not with family)  2012-13 (DRVIC2012_RV)  \\\n",
       "0                                            17030.0                                               \n",
       "1                                            39900.0                                               \n",
       "2                                                NaN                                               \n",
       "3                                            12619.0                                               \n",
       "4                                                NaN                                               \n",
       "\n",
       "   Total price for in-state students living off campus (with family)  2012-13 (DRVIC2012_RV)  \\\n",
       "0                                             8510.0                                           \n",
       "1                                            31250.0                                           \n",
       "2                                                NaN                                           \n",
       "3                                             7009.0                                           \n",
       "4                                                NaN                                           \n",
       "\n",
       "   Total price for in-state students living on campus 2011-12 (DRVIC2011_RV)  \\\n",
       "0                                                NaN                           \n",
       "1                                            38250.0                           \n",
       "2                                                NaN                           \n",
       "3                                            12347.0                           \n",
       "4                                                NaN                           \n",
       "\n",
       "   Total price for in-state students living off campus (not with family)  2011-12 (DRVIC2011_RV)  \\\n",
       "0                                            17030.0                                               \n",
       "1                                                NaN                                               \n",
       "2                                                NaN                                               \n",
       "3                                                NaN                                               \n",
       "4                                                NaN                                               \n",
       "\n",
       "   Total price for in-state students living off campus (with family)  2011-12 (DRVIC2011_RV)  \n",
       "0                                             8510.0                                          \n",
       "1                                                NaN                                          \n",
       "2                                                NaN                                          \n",
       "3                                                NaN                                          \n",
       "4                                                NaN                                          \n",
       "\n",
       "[5 rows x 36 columns]"
      ]
     },
     "execution_count": 22,
     "metadata": {},
     "output_type": "execute_result"
    }
   ],
   "source": [
    "df_stickerprice.head()"
   ]
  },
  {
   "cell_type": "markdown",
   "id": "2092747a-c425-4aa2-b133-acebd72e4214",
   "metadata": {},
   "source": [
    "## Release SageMaker Resources"
   ]
  },
  {
   "cell_type": "code",
   "execution_count": 23,
   "id": "10daa621-16b9-4a5c-abef-ff59dce0a076",
   "metadata": {},
   "outputs": [
    {
     "data": {
      "text/html": [
       "\n",
       "<p><b>Shutting down your kernel for this notebook to release resources.</b></p>\n",
       "<button class=\"sm-command-button\" data-commandlinker-command=\"kernelmenu:shutdown\" style=\"display:none;\">Shutdown Kernel</button>\n",
       "        \n",
       "<script>\n",
       "try {\n",
       "    els = document.getElementsByClassName(\"sm-command-button\");\n",
       "    els[0].click();\n",
       "}\n",
       "catch(err) {\n",
       "    // NoOp\n",
       "}    \n",
       "</script>\n"
      ],
      "text/plain": [
       "<IPython.core.display.HTML object>"
      ]
     },
     "metadata": {},
     "output_type": "display_data"
    }
   ],
   "source": [
    "%%html\n",
    "\n",
    "<p><b>Shutting down your kernel for this notebook to release resources.</b></p>\n",
    "<button class=\"sm-command-button\" data-commandlinker-command=\"kernelmenu:shutdown\" style=\"display:none;\">Shutdown Kernel</button>\n",
    "        \n",
    "<script>\n",
    "try {\n",
    "    els = document.getElementsByClassName(\"sm-command-button\");\n",
    "    els[0].click();\n",
    "}\n",
    "catch(err) {\n",
    "    // NoOp\n",
    "}    \n",
    "</script>"
   ]
  },
  {
   "cell_type": "code",
   "execution_count": null,
   "id": "7f4f011e-0e5c-4c7e-b844-ca734ddb294b",
   "metadata": {},
   "outputs": [],
   "source": [
    "%%javascript\n",
    "\n",
    "try {\n",
    "    Jupyter.notebook.save_checkpoint();\n",
    "    Jupyter.notebook.session.delete();\n",
    "}\n",
    "catch(err) {\n",
    "    // NoOp\n",
    "}"
   ]
  },
  {
   "cell_type": "code",
   "execution_count": null,
   "id": "856e74d1-0032-41ca-820f-6367349221d3",
   "metadata": {},
   "outputs": [],
   "source": []
  }
 ],
 "metadata": {
  "availableInstances": [
   {
    "_defaultOrder": 0,
    "_isFastLaunch": true,
    "category": "General purpose",
    "gpuNum": 0,
    "hideHardwareSpecs": false,
    "memoryGiB": 4,
    "name": "ml.t3.medium",
    "vcpuNum": 2
   },
   {
    "_defaultOrder": 1,
    "_isFastLaunch": false,
    "category": "General purpose",
    "gpuNum": 0,
    "hideHardwareSpecs": false,
    "memoryGiB": 8,
    "name": "ml.t3.large",
    "vcpuNum": 2
   },
   {
    "_defaultOrder": 2,
    "_isFastLaunch": false,
    "category": "General purpose",
    "gpuNum": 0,
    "hideHardwareSpecs": false,
    "memoryGiB": 16,
    "name": "ml.t3.xlarge",
    "vcpuNum": 4
   },
   {
    "_defaultOrder": 3,
    "_isFastLaunch": false,
    "category": "General purpose",
    "gpuNum": 0,
    "hideHardwareSpecs": false,
    "memoryGiB": 32,
    "name": "ml.t3.2xlarge",
    "vcpuNum": 8
   },
   {
    "_defaultOrder": 4,
    "_isFastLaunch": true,
    "category": "General purpose",
    "gpuNum": 0,
    "hideHardwareSpecs": false,
    "memoryGiB": 8,
    "name": "ml.m5.large",
    "vcpuNum": 2
   },
   {
    "_defaultOrder": 5,
    "_isFastLaunch": false,
    "category": "General purpose",
    "gpuNum": 0,
    "hideHardwareSpecs": false,
    "memoryGiB": 16,
    "name": "ml.m5.xlarge",
    "vcpuNum": 4
   },
   {
    "_defaultOrder": 6,
    "_isFastLaunch": false,
    "category": "General purpose",
    "gpuNum": 0,
    "hideHardwareSpecs": false,
    "memoryGiB": 32,
    "name": "ml.m5.2xlarge",
    "vcpuNum": 8
   },
   {
    "_defaultOrder": 7,
    "_isFastLaunch": false,
    "category": "General purpose",
    "gpuNum": 0,
    "hideHardwareSpecs": false,
    "memoryGiB": 64,
    "name": "ml.m5.4xlarge",
    "vcpuNum": 16
   },
   {
    "_defaultOrder": 8,
    "_isFastLaunch": false,
    "category": "General purpose",
    "gpuNum": 0,
    "hideHardwareSpecs": false,
    "memoryGiB": 128,
    "name": "ml.m5.8xlarge",
    "vcpuNum": 32
   },
   {
    "_defaultOrder": 9,
    "_isFastLaunch": false,
    "category": "General purpose",
    "gpuNum": 0,
    "hideHardwareSpecs": false,
    "memoryGiB": 192,
    "name": "ml.m5.12xlarge",
    "vcpuNum": 48
   },
   {
    "_defaultOrder": 10,
    "_isFastLaunch": false,
    "category": "General purpose",
    "gpuNum": 0,
    "hideHardwareSpecs": false,
    "memoryGiB": 256,
    "name": "ml.m5.16xlarge",
    "vcpuNum": 64
   },
   {
    "_defaultOrder": 11,
    "_isFastLaunch": false,
    "category": "General purpose",
    "gpuNum": 0,
    "hideHardwareSpecs": false,
    "memoryGiB": 384,
    "name": "ml.m5.24xlarge",
    "vcpuNum": 96
   },
   {
    "_defaultOrder": 12,
    "_isFastLaunch": false,
    "category": "General purpose",
    "gpuNum": 0,
    "hideHardwareSpecs": false,
    "memoryGiB": 8,
    "name": "ml.m5d.large",
    "vcpuNum": 2
   },
   {
    "_defaultOrder": 13,
    "_isFastLaunch": false,
    "category": "General purpose",
    "gpuNum": 0,
    "hideHardwareSpecs": false,
    "memoryGiB": 16,
    "name": "ml.m5d.xlarge",
    "vcpuNum": 4
   },
   {
    "_defaultOrder": 14,
    "_isFastLaunch": false,
    "category": "General purpose",
    "gpuNum": 0,
    "hideHardwareSpecs": false,
    "memoryGiB": 32,
    "name": "ml.m5d.2xlarge",
    "vcpuNum": 8
   },
   {
    "_defaultOrder": 15,
    "_isFastLaunch": false,
    "category": "General purpose",
    "gpuNum": 0,
    "hideHardwareSpecs": false,
    "memoryGiB": 64,
    "name": "ml.m5d.4xlarge",
    "vcpuNum": 16
   },
   {
    "_defaultOrder": 16,
    "_isFastLaunch": false,
    "category": "General purpose",
    "gpuNum": 0,
    "hideHardwareSpecs": false,
    "memoryGiB": 128,
    "name": "ml.m5d.8xlarge",
    "vcpuNum": 32
   },
   {
    "_defaultOrder": 17,
    "_isFastLaunch": false,
    "category": "General purpose",
    "gpuNum": 0,
    "hideHardwareSpecs": false,
    "memoryGiB": 192,
    "name": "ml.m5d.12xlarge",
    "vcpuNum": 48
   },
   {
    "_defaultOrder": 18,
    "_isFastLaunch": false,
    "category": "General purpose",
    "gpuNum": 0,
    "hideHardwareSpecs": false,
    "memoryGiB": 256,
    "name": "ml.m5d.16xlarge",
    "vcpuNum": 64
   },
   {
    "_defaultOrder": 19,
    "_isFastLaunch": false,
    "category": "General purpose",
    "gpuNum": 0,
    "hideHardwareSpecs": false,
    "memoryGiB": 384,
    "name": "ml.m5d.24xlarge",
    "vcpuNum": 96
   },
   {
    "_defaultOrder": 20,
    "_isFastLaunch": false,
    "category": "General purpose",
    "gpuNum": 0,
    "hideHardwareSpecs": true,
    "memoryGiB": 0,
    "name": "ml.geospatial.interactive",
    "supportedImageNames": [
     "sagemaker-geospatial-v1-0"
    ],
    "vcpuNum": 0
   },
   {
    "_defaultOrder": 21,
    "_isFastLaunch": true,
    "category": "Compute optimized",
    "gpuNum": 0,
    "hideHardwareSpecs": false,
    "memoryGiB": 4,
    "name": "ml.c5.large",
    "vcpuNum": 2
   },
   {
    "_defaultOrder": 22,
    "_isFastLaunch": false,
    "category": "Compute optimized",
    "gpuNum": 0,
    "hideHardwareSpecs": false,
    "memoryGiB": 8,
    "name": "ml.c5.xlarge",
    "vcpuNum": 4
   },
   {
    "_defaultOrder": 23,
    "_isFastLaunch": false,
    "category": "Compute optimized",
    "gpuNum": 0,
    "hideHardwareSpecs": false,
    "memoryGiB": 16,
    "name": "ml.c5.2xlarge",
    "vcpuNum": 8
   },
   {
    "_defaultOrder": 24,
    "_isFastLaunch": false,
    "category": "Compute optimized",
    "gpuNum": 0,
    "hideHardwareSpecs": false,
    "memoryGiB": 32,
    "name": "ml.c5.4xlarge",
    "vcpuNum": 16
   },
   {
    "_defaultOrder": 25,
    "_isFastLaunch": false,
    "category": "Compute optimized",
    "gpuNum": 0,
    "hideHardwareSpecs": false,
    "memoryGiB": 72,
    "name": "ml.c5.9xlarge",
    "vcpuNum": 36
   },
   {
    "_defaultOrder": 26,
    "_isFastLaunch": false,
    "category": "Compute optimized",
    "gpuNum": 0,
    "hideHardwareSpecs": false,
    "memoryGiB": 96,
    "name": "ml.c5.12xlarge",
    "vcpuNum": 48
   },
   {
    "_defaultOrder": 27,
    "_isFastLaunch": false,
    "category": "Compute optimized",
    "gpuNum": 0,
    "hideHardwareSpecs": false,
    "memoryGiB": 144,
    "name": "ml.c5.18xlarge",
    "vcpuNum": 72
   },
   {
    "_defaultOrder": 28,
    "_isFastLaunch": false,
    "category": "Compute optimized",
    "gpuNum": 0,
    "hideHardwareSpecs": false,
    "memoryGiB": 192,
    "name": "ml.c5.24xlarge",
    "vcpuNum": 96
   },
   {
    "_defaultOrder": 29,
    "_isFastLaunch": true,
    "category": "Accelerated computing",
    "gpuNum": 1,
    "hideHardwareSpecs": false,
    "memoryGiB": 16,
    "name": "ml.g4dn.xlarge",
    "vcpuNum": 4
   },
   {
    "_defaultOrder": 30,
    "_isFastLaunch": false,
    "category": "Accelerated computing",
    "gpuNum": 1,
    "hideHardwareSpecs": false,
    "memoryGiB": 32,
    "name": "ml.g4dn.2xlarge",
    "vcpuNum": 8
   },
   {
    "_defaultOrder": 31,
    "_isFastLaunch": false,
    "category": "Accelerated computing",
    "gpuNum": 1,
    "hideHardwareSpecs": false,
    "memoryGiB": 64,
    "name": "ml.g4dn.4xlarge",
    "vcpuNum": 16
   },
   {
    "_defaultOrder": 32,
    "_isFastLaunch": false,
    "category": "Accelerated computing",
    "gpuNum": 1,
    "hideHardwareSpecs": false,
    "memoryGiB": 128,
    "name": "ml.g4dn.8xlarge",
    "vcpuNum": 32
   },
   {
    "_defaultOrder": 33,
    "_isFastLaunch": false,
    "category": "Accelerated computing",
    "gpuNum": 4,
    "hideHardwareSpecs": false,
    "memoryGiB": 192,
    "name": "ml.g4dn.12xlarge",
    "vcpuNum": 48
   },
   {
    "_defaultOrder": 34,
    "_isFastLaunch": false,
    "category": "Accelerated computing",
    "gpuNum": 1,
    "hideHardwareSpecs": false,
    "memoryGiB": 256,
    "name": "ml.g4dn.16xlarge",
    "vcpuNum": 64
   },
   {
    "_defaultOrder": 35,
    "_isFastLaunch": false,
    "category": "Accelerated computing",
    "gpuNum": 1,
    "hideHardwareSpecs": false,
    "memoryGiB": 61,
    "name": "ml.p3.2xlarge",
    "vcpuNum": 8
   },
   {
    "_defaultOrder": 36,
    "_isFastLaunch": false,
    "category": "Accelerated computing",
    "gpuNum": 4,
    "hideHardwareSpecs": false,
    "memoryGiB": 244,
    "name": "ml.p3.8xlarge",
    "vcpuNum": 32
   },
   {
    "_defaultOrder": 37,
    "_isFastLaunch": false,
    "category": "Accelerated computing",
    "gpuNum": 8,
    "hideHardwareSpecs": false,
    "memoryGiB": 488,
    "name": "ml.p3.16xlarge",
    "vcpuNum": 64
   },
   {
    "_defaultOrder": 38,
    "_isFastLaunch": false,
    "category": "Accelerated computing",
    "gpuNum": 8,
    "hideHardwareSpecs": false,
    "memoryGiB": 768,
    "name": "ml.p3dn.24xlarge",
    "vcpuNum": 96
   },
   {
    "_defaultOrder": 39,
    "_isFastLaunch": false,
    "category": "Memory Optimized",
    "gpuNum": 0,
    "hideHardwareSpecs": false,
    "memoryGiB": 16,
    "name": "ml.r5.large",
    "vcpuNum": 2
   },
   {
    "_defaultOrder": 40,
    "_isFastLaunch": false,
    "category": "Memory Optimized",
    "gpuNum": 0,
    "hideHardwareSpecs": false,
    "memoryGiB": 32,
    "name": "ml.r5.xlarge",
    "vcpuNum": 4
   },
   {
    "_defaultOrder": 41,
    "_isFastLaunch": false,
    "category": "Memory Optimized",
    "gpuNum": 0,
    "hideHardwareSpecs": false,
    "memoryGiB": 64,
    "name": "ml.r5.2xlarge",
    "vcpuNum": 8
   },
   {
    "_defaultOrder": 42,
    "_isFastLaunch": false,
    "category": "Memory Optimized",
    "gpuNum": 0,
    "hideHardwareSpecs": false,
    "memoryGiB": 128,
    "name": "ml.r5.4xlarge",
    "vcpuNum": 16
   },
   {
    "_defaultOrder": 43,
    "_isFastLaunch": false,
    "category": "Memory Optimized",
    "gpuNum": 0,
    "hideHardwareSpecs": false,
    "memoryGiB": 256,
    "name": "ml.r5.8xlarge",
    "vcpuNum": 32
   },
   {
    "_defaultOrder": 44,
    "_isFastLaunch": false,
    "category": "Memory Optimized",
    "gpuNum": 0,
    "hideHardwareSpecs": false,
    "memoryGiB": 384,
    "name": "ml.r5.12xlarge",
    "vcpuNum": 48
   },
   {
    "_defaultOrder": 45,
    "_isFastLaunch": false,
    "category": "Memory Optimized",
    "gpuNum": 0,
    "hideHardwareSpecs": false,
    "memoryGiB": 512,
    "name": "ml.r5.16xlarge",
    "vcpuNum": 64
   },
   {
    "_defaultOrder": 46,
    "_isFastLaunch": false,
    "category": "Memory Optimized",
    "gpuNum": 0,
    "hideHardwareSpecs": false,
    "memoryGiB": 768,
    "name": "ml.r5.24xlarge",
    "vcpuNum": 96
   },
   {
    "_defaultOrder": 47,
    "_isFastLaunch": false,
    "category": "Accelerated computing",
    "gpuNum": 1,
    "hideHardwareSpecs": false,
    "memoryGiB": 16,
    "name": "ml.g5.xlarge",
    "vcpuNum": 4
   },
   {
    "_defaultOrder": 48,
    "_isFastLaunch": false,
    "category": "Accelerated computing",
    "gpuNum": 1,
    "hideHardwareSpecs": false,
    "memoryGiB": 32,
    "name": "ml.g5.2xlarge",
    "vcpuNum": 8
   },
   {
    "_defaultOrder": 49,
    "_isFastLaunch": false,
    "category": "Accelerated computing",
    "gpuNum": 1,
    "hideHardwareSpecs": false,
    "memoryGiB": 64,
    "name": "ml.g5.4xlarge",
    "vcpuNum": 16
   },
   {
    "_defaultOrder": 50,
    "_isFastLaunch": false,
    "category": "Accelerated computing",
    "gpuNum": 1,
    "hideHardwareSpecs": false,
    "memoryGiB": 128,
    "name": "ml.g5.8xlarge",
    "vcpuNum": 32
   },
   {
    "_defaultOrder": 51,
    "_isFastLaunch": false,
    "category": "Accelerated computing",
    "gpuNum": 1,
    "hideHardwareSpecs": false,
    "memoryGiB": 256,
    "name": "ml.g5.16xlarge",
    "vcpuNum": 64
   },
   {
    "_defaultOrder": 52,
    "_isFastLaunch": false,
    "category": "Accelerated computing",
    "gpuNum": 4,
    "hideHardwareSpecs": false,
    "memoryGiB": 192,
    "name": "ml.g5.12xlarge",
    "vcpuNum": 48
   },
   {
    "_defaultOrder": 53,
    "_isFastLaunch": false,
    "category": "Accelerated computing",
    "gpuNum": 4,
    "hideHardwareSpecs": false,
    "memoryGiB": 384,
    "name": "ml.g5.24xlarge",
    "vcpuNum": 96
   },
   {
    "_defaultOrder": 54,
    "_isFastLaunch": false,
    "category": "Accelerated computing",
    "gpuNum": 8,
    "hideHardwareSpecs": false,
    "memoryGiB": 768,
    "name": "ml.g5.48xlarge",
    "vcpuNum": 192
   },
   {
    "_defaultOrder": 55,
    "_isFastLaunch": false,
    "category": "Accelerated computing",
    "gpuNum": 8,
    "hideHardwareSpecs": false,
    "memoryGiB": 1152,
    "name": "ml.p4d.24xlarge",
    "vcpuNum": 96
   },
   {
    "_defaultOrder": 56,
    "_isFastLaunch": false,
    "category": "Accelerated computing",
    "gpuNum": 8,
    "hideHardwareSpecs": false,
    "memoryGiB": 1152,
    "name": "ml.p4de.24xlarge",
    "vcpuNum": 96
   },
   {
    "_defaultOrder": 57,
    "_isFastLaunch": false,
    "category": "Accelerated computing",
    "gpuNum": 0,
    "hideHardwareSpecs": false,
    "memoryGiB": 32,
    "name": "ml.trn1.2xlarge",
    "vcpuNum": 8
   },
   {
    "_defaultOrder": 58,
    "_isFastLaunch": false,
    "category": "Accelerated computing",
    "gpuNum": 0,
    "hideHardwareSpecs": false,
    "memoryGiB": 512,
    "name": "ml.trn1.32xlarge",
    "vcpuNum": 128
   },
   {
    "_defaultOrder": 59,
    "_isFastLaunch": false,
    "category": "Accelerated computing",
    "gpuNum": 0,
    "hideHardwareSpecs": false,
    "memoryGiB": 512,
    "name": "ml.trn1n.32xlarge",
    "vcpuNum": 128
   }
  ],
  "kernelspec": {
   "display_name": "Python 3 (Data Science 2.0)",
   "language": "python",
   "name": "python3__SAGEMAKER_INTERNAL__arn:aws:sagemaker:us-east-1:081325390199:image/sagemaker-data-science-38"
  },
  "language_info": {
   "codemirror_mode": {
    "name": "ipython",
    "version": 3
   },
   "file_extension": ".py",
   "mimetype": "text/x-python",
   "name": "python",
   "nbconvert_exporter": "python",
   "pygments_lexer": "ipython3",
   "version": "3.8.13"
  }
 },
 "nbformat": 4,
 "nbformat_minor": 5
}
